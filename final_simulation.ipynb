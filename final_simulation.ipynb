{
 "cells": [
  {
   "cell_type": "markdown",
   "id": "exempt-spine",
   "metadata": {},
   "source": [
    "# Simulating a Rocket Launch"
   ]
  },
  {
   "cell_type": "code",
   "execution_count": 7,
   "id": "analyzed-advocacy",
   "metadata": {},
   "outputs": [
    {
     "name": "stdout",
     "output_type": "stream",
     "text": [
      "[0]\n"
     ]
    }
   ],
   "source": [
    "import numpy as np\n",
    "\n",
    "class rocket:\n",
    "    \n",
    "    delta_t = .01\n",
    "    \n",
    "    def __init__(self):\n",
    "        \n",
    "        self.fuel = 1000    #kg\n",
    "        self.dry_mass = 100 #kg\n",
    "        self.propellant_flow = 10 #kg/sec\n",
    "        self.exit_vel = 1e3 #m/s\n",
    "        self.x = [0]\n",
    "        self.y = [0]\n",
    "        self.angle = [np.pi/2]\n",
    "        self.vel = [0]\n",
    "        self.accel = [0]\n",
    "        self.thrust = [0]\n",
    "    \n",
    "    def update_thrust(self):\n",
    "        prop_mass = self.propellant_flow * self.delta_t\n",
    "        \n",
    "        if self.fuel <= 0:\n",
    "            prop_mass = 0\n",
    "            self.fuel = 0\n",
    "        elif self.fuel <= prop_mass:\n",
    "            prop_mass = self.fuel\n",
    "            self.fuel = 0\n",
    "        \n",
    "        self.fuel -= prop_mass\n",
    "        \n",
    "        thrust = prop_mass * self.exit_vel / self.delta_t\n",
    "        self.thrust.append(thrust)\n",
    "    \n",
    "    def update_acceleration(self):\n",
    "        mass = self.fuel + self.dry_mass\n",
    "        self.accel.append(thrust / mass - )\n",
    "        \n",
    "        \n",
    "       \n",
    "        "
   ]
  }
 ],
 "metadata": {
  "kernelspec": {
   "display_name": "Python 3",
   "language": "python",
   "name": "python3"
  },
  "language_info": {
   "codemirror_mode": {
    "name": "ipython",
    "version": 3
   },
   "file_extension": ".py",
   "mimetype": "text/x-python",
   "name": "python",
   "nbconvert_exporter": "python",
   "pygments_lexer": "ipython3",
   "version": "3.7.3"
  }
 },
 "nbformat": 4,
 "nbformat_minor": 5
}
