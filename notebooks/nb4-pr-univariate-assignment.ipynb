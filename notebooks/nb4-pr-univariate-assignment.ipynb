{
 "cells": [
  {
   "cell_type": "markdown",
   "id": "western-gilbert",
   "metadata": {},
   "source": [
    "# A4: Univariate Probability\n",
    "\n",
    "---\n",
    "\n",
    "*Purpose*: Probability is a useful way to represent uncertainty. However, working with probability is challenging. Over the next few notebooks we'll learn the basics of modeling with probability, use Monte Carlo to work with random models, and incorporate information about random quantities in optimization.\n",
    "\n",
    "*Learning Objectives*: By working through this assignment, you will \n",
    "- understand fundamental concepts about random variables: variability, mean, standard deviation, quantiles, probability\n",
    "- connect these fundamental concepts to engineering concerns, such as failure rates and robustness\n",
    "- use Monte Carlo to propagate uncertainty\n",
    "- conduct a literature search to define a *principled* random variable model\n",
    "\n",
    "*Reading*:\n",
    "- Kochenderfer and Wheeler, Ch 17.3\n",
    "- (Optional) Owen [\"Monte Carlo theory, methods and examples\"](https://statweb.stanford.edu/~owen/mc/), an excellent ground-up, detailed theoretical treatment of Monte Carlo\n",
    "\n"
   ]
  },
  {
   "cell_type": "markdown",
   "id": "blond-ultimate",
   "metadata": {},
   "source": [
    "### Assignment Checklist\n",
    "\n",
    "1. [?] Make sure you have answered all questions. These are marked with a **qX.Y**\n",
    "1. [?] Make sure you complete the Project Task at the end of the assignment. These will scaffold your project progress during the semester.\n",
    "1. [?] Make sure your notebook passes all `assert()` statements. You will not get full credit for the assignment if a single `assert()` fails.\n",
    "1. [?] Make sure your notebook runs: `Kernel > Restart kernel and run all cells...`\n",
    "1. [?] Upload your notebook to Canvas.\n"
   ]
  },
  {
   "cell_type": "markdown",
   "id": "orange-campus",
   "metadata": {},
   "source": [
    "### Grading Rubric\n",
    "\n",
    "Every assignment is worth 10 points; it is not possible to receive less than 0 points. For each question (qX.Y) on a given assignment, the following grading rubric will be applied. For every NI that you receive, one point will be subtracted from your assignment total. For reference, to receive an A- in this class, you will need an average of 9 points across your 5 best assignments, meaning you need to have at most one mistake on your final submission for 5 assignments. To achieve this, you should take advantage of both the Draft and Final submission deadlines.\n",
    "\n",
    "| Category     | Needs Improvement (NI)                     | Satisfactory (S)                       |\n",
    "|--------------|--------------------------------------------|----------------------------------------|\n",
    "| Effort       | qX.Y left unattempted                      | qX.Y attempted                         |\n",
    "| Assertions   | Code does not pass an `assert()`           | All `assert()`s pass, or no assertions |\n",
    "| Observations | Any point under *observe* left unattempted | All *observe*s attempted and correct,  |\n",
    "|              | Provided an incorrect observation          | or no *observe*s for that q            |\n"
   ]
  },
  {
   "cell_type": "markdown",
   "id": "digital-journey",
   "metadata": {},
   "source": [
    "## S1: Probability as a Measure of Uncertainty\n",
    "\n",
    "---\n",
    "\n",
    "Probability is ultimately a *quantitative measure of uncertainty*. A probabilistic approach models randomness in variables as so-called *random variables*. In this section, you'll get some practice using probability to model uncertain quantities.\n"
   ]
  },
  {
   "cell_type": "code",
   "execution_count": 1,
   "id": "precise-virtue",
   "metadata": {},
   "outputs": [],
   "source": [
    "import grama as gr\n",
    "import numpy as np\n",
    "import matplotlib.pyplot as plt\n",
    "import matplotlib.patches as mpatches\n",
    "import pandas as pd\n",
    "\n",
    "# Define the data pronoun as DF\n",
    "DF = gr.Intention()\n",
    "\n",
    "# Set figure options\n",
    "plt.rcParams['figure.figsize'] = [6, 4]\n",
    "plt.rcParams['figure.dpi'] = 100 # 200 e.g. is really fine, but slower"
   ]
  },
  {
   "cell_type": "markdown",
   "id": "continent-patient",
   "metadata": {},
   "source": [
    "### An Example Probability Model: Strength of a brittle material\n",
    "\n",
    "The (tensile) strength of brittle materials is often modeled using a *random variable* (e.g. Afferrante et al. 2006). Random variables are used because real materials *do not* come off an assembly line and behave identically; instead, they tend to exhibit *unavoidable variation in performance*. In fact, aircraft designers are *legally required* to treat material properties rigorously using both probability and statistics (CFR 25.613).\n",
    "\n",
    "As an illustrative example, let's look at a random variable model for the tensile strength of ceramic alumina.\n"
   ]
  },
  {
   "cell_type": "code",
   "execution_count": 2,
   "id": "polar-survival",
   "metadata": {},
   "outputs": [
    {
     "name": "stdout",
     "output_type": "stream",
     "text": [
      "model: None\n",
      "\n",
      "  inputs:\n",
      "    var_det:\n",
      "    var_rand:\n",
      "      sigma_t: (+0) weibull_min, {'loc': 0, 'scale': 200, 'c': 2.0}\n",
      "    copula:\n",
      "        Independence copula\n",
      "  functions:\n"
     ]
    }
   ],
   "source": [
    "## NOTE: No need to edit, this sets up a probability model for the strength of a ceramic\n",
    "# Set up the model\n",
    "md_strength = (\n",
    "    gr.Model()\n",
    "    >> gr.cp_marginals(\n",
    "        sigma_t=dict(\n",
    "            dist=\"weibull_min\",\n",
    "            loc=0,     # Zero offset (-)\n",
    "            scale=200, # Alumina, 96% pure (MPa), Ref: STC\n",
    "            c=2.0,     # High-scatter Weibull modulus (-), Ref: Afferrante et al. (2006)\n",
    "        )\n",
    "    )\n",
    "    >> gr.cp_copula_independence()\n",
    ")\n",
    "md_strength.printpretty()"
   ]
  },
  {
   "cell_type": "markdown",
   "id": "suffering-banks",
   "metadata": {},
   "source": [
    "This Grama model has no function; it only defines a single *random variable* (`var_rand`) `sigma_t`. A random variable is a quantity that does not take a single definitive value, but instead can take a range of values with particular frequency. This model defines the material strength `sigma_t` as a random variable to represent the reality that components manufactured with this material will tend to be variable in strength. I defined a distribution with a particular shape `\"weibull_min\"` called a Weibull distribution; this is often used to model the strength of brittle materials such as ceramics. I also set parameter values `loc, scale, c` based on published resources. This is a **principled** way to build a random variable model. Principled random variable models should be based on literature search or real data.\n",
    "\n",
    "Using the verb `gr.eval_monte_carlo()` we can generate *realizations* from the random variable. Each realization of this model represents a single component manufactured of ceramic alumina, which has its own unique value of strength $\\sigma_{t,i}$. The process of generating a realization is called *drawing* a realization.\n"
   ]
  },
  {
   "cell_type": "code",
   "execution_count": 3,
   "id": "portable-oregon",
   "metadata": {},
   "outputs": [
    {
     "name": "stdout",
     "output_type": "stream",
     "text": [
      "eval_monte_carlo() is rounding n...\n",
      "Design runtime estimates unavailable; model has no timing data.\n"
     ]
    },
    {
     "data": {
      "text/html": [
       "<div>\n",
       "<style scoped>\n",
       "    .dataframe tbody tr th:only-of-type {\n",
       "        vertical-align: middle;\n",
       "    }\n",
       "\n",
       "    .dataframe tbody tr th {\n",
       "        vertical-align: top;\n",
       "    }\n",
       "\n",
       "    .dataframe thead th {\n",
       "        text-align: right;\n",
       "    }\n",
       "</style>\n",
       "<table border=\"1\" class=\"dataframe\">\n",
       "  <thead>\n",
       "    <tr style=\"text-align: right;\">\n",
       "      <th></th>\n",
       "      <th>sigma_t</th>\n",
       "      <th>id</th>\n",
       "    </tr>\n",
       "  </thead>\n",
       "  <tbody>\n",
       "    <tr>\n",
       "      <th>0</th>\n",
       "      <td>170.469273</td>\n",
       "      <td>0</td>\n",
       "    </tr>\n",
       "    <tr>\n",
       "      <th>1</th>\n",
       "      <td>183.904737</td>\n",
       "      <td>1</td>\n",
       "    </tr>\n",
       "    <tr>\n",
       "      <th>2</th>\n",
       "      <td>33.992635</td>\n",
       "      <td>2</td>\n",
       "    </tr>\n",
       "    <tr>\n",
       "      <th>3</th>\n",
       "      <td>86.755883</td>\n",
       "      <td>3</td>\n",
       "    </tr>\n",
       "    <tr>\n",
       "      <th>4</th>\n",
       "      <td>215.040678</td>\n",
       "      <td>4</td>\n",
       "    </tr>\n",
       "  </tbody>\n",
       "</table>\n",
       "</div>"
      ],
      "text/plain": [
       "      sigma_t  id\n",
       "0  170.469273   0\n",
       "1  183.904737   1\n",
       "2   33.992635   2\n",
       "3   86.755883   3\n",
       "4  215.040678   4"
      ]
     },
     "execution_count": 3,
     "metadata": {},
     "output_type": "execute_result"
    }
   ],
   "source": [
    "## NOTE: No need to edit, this draws realizations from the model\n",
    "df_samples = (\n",
    "    md_strength\n",
    "    >> gr.ev_monte_carlo(n=1e5, df_det=\"nom\", skip=True, seed=101)\n",
    "    >> gr.tf_mutate(id=DF.index)\n",
    ")\n",
    "df_samples.head()\n"
   ]
  },
  {
   "cell_type": "markdown",
   "id": "positive-platform",
   "metadata": {},
   "source": [
    "If we plot the first hundred realizations of strength, we will indeed see that the values tend to be different. Let's further assume that the individual components will be subject to an applied stress of $50$ MPa; then parts with $\\sigma_{t,i} \\leq 50$ MPa will break and fail. The following plot shows the first hundred realizations from `df_samples` and highlights those parts that would fail.\n"
   ]
  },
  {
   "cell_type": "code",
   "execution_count": 4,
   "id": "authorized-distribution",
   "metadata": {},
   "outputs": [
    {
     "data": {
      "text/plain": [
       "Text(0.5, 1.0, 'First hundred samples')"
      ]
     },
     "execution_count": 4,
     "metadata": {},
     "output_type": "execute_result"
    },
    {
     "data": {
      "image/png": "[encoded data removed]",
      "text/plain": [
       "<Figure size 600x400 with 1 Axes>"
      ]
     },
     "metadata": {
      "needs_background": "light"
     },
     "output_type": "display_data"
    }
   ],
   "source": [
    "## NOTE: No need to edit; run and inspect\n",
    "plt.figure()\n",
    "plt.plot([0, 100], [50, 50], 'r:')\n",
    "plt.plot(\n",
    "    df_samples[(df_samples.id < 100) & (df_samples.sigma_t > 50)].id,\n",
    "    df_samples[(df_samples.id < 100) & (df_samples.sigma_t > 50)].sigma_t,\n",
    "    \"k.\"\n",
    ")\n",
    "plt.plot(\n",
    "    df_samples[(df_samples.id < 100) & (df_samples.sigma_t <= 50)].id,\n",
    "    df_samples[(df_samples.id < 100) & (df_samples.sigma_t <= 50)].sigma_t,\n",
    "    \"r.\"\n",
    ")\n",
    "plt.xlabel(\"Sample index (-)\")\n",
    "plt.ylabel(\"Strength (MPa)\")\n",
    "plt.title(\"First hundred samples\")\n"
   ]
  },
  {
   "cell_type": "markdown",
   "id": "hundred-bones",
   "metadata": {},
   "source": [
    "This scatterplot illustrates that the strength of the ceramic does in fact tend to vary, but otherwise this visual is not very informative. Instead, we can use a [histogram](https://en.wikipedia.org/wiki/Histogram) to assess the *shape* of the distribution of strength values.\n"
   ]
  },
  {
   "cell_type": "markdown",
   "id": "joined-raleigh",
   "metadata": {},
   "source": [
    "### __q1.1__ Interpret a histogram\n",
    "\n",
    "Interpret the histogram of realizations of `sigma_t` and answer the questions below.\n"
   ]
  },
  {
   "cell_type": "code",
   "execution_count": 5,
   "id": "honest-cannon",
   "metadata": {},
   "outputs": [
    {
     "data": {
      "text/plain": [
       "Text(0, 0.5, 'Count (-)')"
      ]
     },
     "execution_count": 5,
     "metadata": {},
     "output_type": "execute_result"
    },
    {
     "data": {
      "image/png": "[encoded data removed]",
      "text/plain": [
       "<Figure size 600x400 with 1 Axes>"
      ]
     },
     "metadata": {
      "needs_background": "light"
     },
     "output_type": "display_data"
    }
   ],
   "source": [
    "###\n",
    "# TASK: Interpret the following histogram\n",
    "###\n",
    "\n",
    "## NOTE: No need to edit; run and interpret\n",
    "plt.figure()\n",
    "n, bins, patches = plt.hist(\n",
    "    df_samples.sigma_t,\n",
    "    bins=60,\n",
    "    align=\"right\",\n",
    ")\n",
    "plt.xlabel(\"Tensile Strength (MPa)\")\n",
    "plt.ylabel(\"Count (-)\")\n"
   ]
  },
  {
   "cell_type": "markdown",
   "id": "future-consciousness",
   "metadata": {},
   "source": [
    "*Observe*:\n",
    "\n",
    "- The strength of a material cannot be negative. Does the random variable model respect this physical principle? (yes or no)\n",
    "  - yes\n",
    "- *Roughly*, what value of strength tends to occur *most frequently*?\n",
    "  - 150 MPa\n",
    "- Imagine that you were designing a safety-critical part using this material, and failure would result in the death of a human. You will not apply any additional safety factors or knockdowns in your design process, beyond how you treat the material strength. Would you feel comfortable assuming your highest-frequency value above, for the purposes of designing this component? Why or why not?\n",
    "  - I would definitely not feel comfortable assuming 150Mpa is the strength of the component. There are still a very significant group of samples that have less strength leading to a high probability of death.\n"
   ]
  },
  {
   "cell_type": "markdown",
   "id": "offshore-security",
   "metadata": {},
   "source": [
    "### What is Probability?\n",
    "\n",
    "Here is a reasonably jargon-free statement about what probability is:\n",
    "\n",
    "> Probability is a quantitative statement about the *relative frequency* of **chosen events** associated with a particular **random variable**.\n",
    "\n",
    "Note that probability is a statement about *relative frequencies*, and it requires two ingredients:\n",
    "\n",
    "1. We must chose an **event** $A$ to study\n",
    "2. We must choose a **random variable** $X$ to study\n",
    "\n",
    "We define events as *sets* of values, often by stating some sort of inequality. We define random variables by carrying out random variable modeling.\n",
    "\n",
    "With the ceramic failure problem, our event is failure of the component with the set $A = \\{\\sigma_t \\,|\\, \\sigma_t \\leq \\sigma\\}$. Our random variable is the variable material strength $X = \\sigma_t$.\n",
    "\n",
    "Once we settle on our event $A$ and with a *continuous* random variable $X$, we can formally define the probability of event $A$ occurring as\n",
    "\n",
    "$$\\mathbb{P}[X \\in A] = \\int_{-\\infty}^{+\\infty} 1(x \\in A) f_X(x) dx = \\mathbb{E}[1(X \\in A)]$$\n",
    "\n",
    "where $f_X(x)$ is the *probability density function* (PDF) of the random variable $X$, and $1(x \\in A)$ is the *indicator function*; a function that takes the value $1$ when $x \\in A$ and $0$ when $x \\not\\in A$.\n",
    "\n",
    "The PDF $f_X(x)$ is a quantitative description of the *relative frequency* with which different values of $X$ occur. The interpretation is very similar to a histogram; in fact, a histogram is nothing more than a discrete approximation to a PDF.\n"
   ]
  },
  {
   "cell_type": "markdown",
   "id": "athletic-india",
   "metadata": {},
   "source": [
    "Note that the definition of probability implies that *probability is the area under the PDF*. The following visual illustrates this fact with the ceramic strength histogram:\n"
   ]
  },
  {
   "cell_type": "code",
   "execution_count": 6,
   "id": "working-revolution",
   "metadata": {},
   "outputs": [
    {
     "data": {
      "text/plain": [
       "<matplotlib.legend.Legend at 0x20ba736cb00>"
      ]
     },
     "execution_count": 6,
     "metadata": {},
     "output_type": "execute_result"
    },
    {
     "data": {
      "image/png": "[encoded data removed]",
      "text/plain": [
       "<Figure size 600x400 with 1 Axes>"
      ]
     },
     "metadata": {
      "needs_background": "light"
     },
     "output_type": "display_data"
    }
   ],
   "source": [
    "## NOTE: No need to edit, run and inspect\n",
    "plt.figure()\n",
    "plt.hist(\n",
    "    [\n",
    "        df_samples[df_samples.sigma_t < 50].sigma_t,\n",
    "        df_samples[df_samples.sigma_t >= 50].sigma_t,\n",
    "    ],\n",
    "    color=[\"red\", \"grey\"],\n",
    "    label=[\"fail\", \"survive\"],\n",
    "    bins=60,\n",
    "    align=\"left\",\n",
    "    histtype=\"barstacked\",\n",
    ")\n",
    "plt.xlabel(\"Strength (MPa)\")\n",
    "plt.ylabel(\"Count (-)\")\n",
    "plt.legend(loc=0)"
   ]
  },
  {
   "cell_type": "markdown",
   "id": "public-complexity",
   "metadata": {},
   "source": [
    "The red area corresponds to those cases where the ceramic fails to survive its loading conditions and breaks, possibly leading to failure of a system.\n",
    "\n",
    "Remember that the histogram is a discrete approximation of the PDF $f_X(x)$. There are many complicated analytic formulae for PDFs, but within Grama you can access and evaluate the PDF of a random variable using its name `\"var\"` and the syntax:\n",
    "\n",
    "> `md_strength.density.marginals[\"var\"].l(x)`\n",
    "\n",
    "The following code illustrates the PDF of the ceramic strength.\n"
   ]
  },
  {
   "cell_type": "code",
   "execution_count": 7,
   "id": "consolidated-insert",
   "metadata": {},
   "outputs": [
    {
     "data": {
      "text/plain": [
       "<matplotlib.legend.Legend at 0x20ba74ef860>"
      ]
     },
     "execution_count": 7,
     "metadata": {},
     "output_type": "execute_result"
    },
    {
     "data": {
      "image/png": "[encoded data removed]",
      "text/plain": [
       "<Figure size 600x400 with 1 Axes>"
      ]
     },
     "metadata": {
      "needs_background": "light"
     },
     "output_type": "display_data"
    }
   ],
   "source": [
    "## NOTE: No need to edit; this illustrates the PDF of the ceramic strength\n",
    "# Choose points to evaluate\n",
    "n_strength = 100\n",
    "x_strength = np.linspace(0, 700, num=n_strength)\n",
    "l_strength = np.zeros(n_strength)\n",
    "for i, x in enumerate(x_strength):\n",
    "    # Call the PDF with Grama\n",
    "    l_strength[i] = md_strength.density.marginals[\"sigma_t\"].l(x)\n",
    "# Package the results    \n",
    "df_strength = pd.DataFrame(dict(\n",
    "    x=x_strength,\n",
    "    l=l_strength\n",
    "))\n",
    "    \n",
    "# Visualize\n",
    "plt.figure()\n",
    "plt.plot(df_strength.x, df_strength.l, 'k')\n",
    "plt.fill_between(\n",
    "    df_strength[df_strength.x <= 50].x,\n",
    "    df_strength[df_strength.x <= 50].l,\n",
    "    color=\"red\",\n",
    "    label=\"Failure probability\"\n",
    ")\n",
    "plt.xlabel(\"Tensile Strength (MPa)\")\n",
    "plt.ylabel(\"Probability Density (-)\")\n",
    "plt.legend(loc=0)\n"
   ]
  },
  {
   "cell_type": "markdown",
   "id": "perceived-quick",
   "metadata": {},
   "source": [
    "The red area illustrates the failure probability associated with our considered event (a certain applied stress) and random variable (a certain material with particular variability in material strength). To actually compute the probability of failure, we'll need to carry out the integral (compute the red area); we'll build up the tools to do this below.\n",
    "\n",
    "Since our failure criteria is $\\sigma_t \\leq \\sigma_{\\text{applied}}$, our set is of the form $A = \\{x \\,|\\, x \\leq c\\}$. We can write this in a probability statement with the shorthand $X \\leq c$; i.e.\n",
    "\n",
    "$$\\mathbb{P}[X \\leq c] = \\mathbb{P}[X \\in \\{x \\,|\\, x \\leq c\\}].$$"
   ]
  },
  {
   "cell_type": "markdown",
   "id": "standard-petroleum",
   "metadata": {},
   "source": [
    "### Computing Probabilities with the Cumulative Distribution Function (CDF)\n",
    "\n",
    "Probability statements of the form $\\mathbb{P}[X \\leq c]$ get a special name: *cumulative distribution function* (CDF). Note that $\\mathbb{P}[X \\leq c]$ is a *constant* determined by the quantity $c$; if we instead make $x$ an argument, we can define a function that is the *cumulative probability* up to the point $x$; that is\n",
    "\n",
    "$F_X(x) = \\mathbb{P}_X[X \\leq x] = \\int_{-\\infty}^x f(x') dx'$\n",
    "\n",
    "By the [fundamental theorem of calculus](https://en.wikipedia.org/wiki/Fundamental_theorem_of_calculus), this means that the PDF is the derivative of the CDF. Thus the PDF and CDF carry the same \"information\".   We denote by $X \\sim F_X$ the fact that X is distributed according to the distribution $F_X$.\n",
    "\n",
    "Again, there are all kinds of crazy analytic formulae out there for CDF's; Grama allows you to access the CDF for a defined random variable using the notation:\n",
    "\n",
    "> `md_strength.density.marginals[\"var\"].p(x)`\n",
    "\n",
    "We can use the CDF to compute probabilities associated with simple inequality-defined events, as you'll see in the next task.\n"
   ]
  },
  {
   "cell_type": "markdown",
   "id": "neural-blink",
   "metadata": {},
   "source": [
    "### __q1.2__ Compute the probability of failure\n",
    "\n",
    "Suppose the applied stress is $\\sigma_{\\text{applied}} = 50$ MPa. Compute the probability that a component made of the ceramic alumina will fail. Answer the questions under *observe* below.\n",
    "\n",
    "*Note*: Failure occurs when $\\sigma_t \\leq \\sigma_{\\text{applied}}$.\n"
   ]
  },
  {
   "cell_type": "code",
   "execution_count": 8,
   "id": "conscious-field",
   "metadata": {},
   "outputs": [
    {
     "name": "stdout",
     "output_type": "stream",
     "text": [
      "pof = 0.061\n",
      "Success!\n"
     ]
    }
   ],
   "source": [
    "###\n",
    "# TASK: Compute the probability that sigma_t <= sigma_applied\n",
    "#       using md_strength\n",
    "###\n",
    "\n",
    "pof = md_strength.density.marginals[\"sigma_t\"].p(50)\n",
    "\n",
    "\n",
    "## NOTE: No need to edit, this checks your answer\n",
    "print(\"pof = {0:4.3f}\".format(pof))\n",
    "assert(abs(md_strength.density.marginals[\"sigma_t\"].q(pof) - 50) < 1e-6)\n",
    "print(\"Success!\")\n"
   ]
  },
  {
   "cell_type": "markdown",
   "id": "shaped-laptop",
   "metadata": {},
   "source": [
    "*Observe*:\n",
    "\n",
    "- Remember that probability is a *relative* requency; if we built `100` parts out of our ceramic and subjected them to the same loading conditions, we would \"expect\" about `100 * pof` of them to fail. About how many parts out of `100` would you expect to fail?\n",
    "  - 6\n",
    "- Suppose you were using these parts in `10` prototype devices. No one will die if the prototypes fail, and you are using these prototypes to validate some design hypotheses unrelated to this particular part. Is this probability of failure acceptable? Why or why not?\n",
    "  - Even though there would be 60% chance of at least one of the prototypes failing, the rate of failure would be acceptable given the low stakes (cheap, easy to build, not safety crtical) and quantity of prototypes being created. \n",
    "- Suppose you were using these parts in `1e6` production systems. These are safety-critical parts, and their failure could result in the death of a human. Is this probability of failure acceptable? Why or why not?\n",
    "  - Being used in such a large number of systems, this part is almost guaranteed to fail. Because the almost guaranteed failure would result in human death the probability is not acceptable. \n"
   ]
  },
  {
   "cell_type": "markdown",
   "id": "artistic-quantity",
   "metadata": {},
   "source": [
    "### Selecting probabilistic thresholds using the Quantile function\n",
    "\n",
    "Above we *assessed* the safety of a part using probability, but we might instead want to *design* for a particular target probability. In this case we are seeking to go from a probability $p$ to a value of our random variable $x$, mapping $p \\to x$. Note that this is the *inverse* of the CDF which maps $x \\to p$.\n",
    "\n",
    "In the case of a continuous CDF $F_X(x)$, we can define the [quantile function](https://en.wikipedia.org/wiki/Quantile_function) as\n",
    "\n",
    "$Q_X(p) \\equiv F_X^{-1}(p)$\n",
    "\n",
    "As you might guess, Grama also provides an interface to the quantile function:\n",
    "\n",
    "> `md_strength.density.marginals[\"var\"].q(p)`\n",
    "\n",
    "Quantiles are useful for a variety of reasons; in the ceramic strength example we can use a quantile of the strength distribution to *set* a target applied stress $\\sigma_{\\text{applied}}$ based on a desired failure rate. We could then use ideas from MechSolids to size the part to achieve that applied stress.\n"
   ]
  },
  {
   "cell_type": "markdown",
   "id": "floating-monitoring",
   "metadata": {},
   "source": [
    "### __q1.3__ Compute the critical applied stress\n",
    "\n",
    "Suppose you want components made of the ceramic alumina to fail at a rate of $1$ in $20$. Compute the critical applied stress `sigma_applied` that parts can withstand while meeting this failure rate.\n"
   ]
  },
  {
   "cell_type": "code",
   "execution_count": 9,
   "id": "advised-handbook",
   "metadata": {},
   "outputs": [
    {
     "name": "stdout",
     "output_type": "stream",
     "text": [
      "sigma_applied = 45.296\n",
      "Success!\n"
     ]
    }
   ],
   "source": [
    "###\n",
    "# TASK: Compute the critical stress for a failure rate of 1 / 20\n",
    "### \n",
    "\n",
    "sigma_applied = md_strength.density.marginals[\"sigma_t\"].q(.05)\n",
    "\n",
    "\n",
    "print(\"sigma_applied = {0:4.3f}\".format(sigma_applied))\n",
    "\n",
    "## NOTE: No need to edit, this checks your answer\n",
    "assert(abs(md_strength.density.marginals[\"sigma_t\"].p(sigma_applied) - 0.05) < 1e-6)\n",
    "print(\"Success!\")\n"
   ]
  },
  {
   "cell_type": "markdown",
   "id": "unlike-beijing",
   "metadata": {},
   "source": [
    "These basic tools give us a fundamental understanding of random variables:\n",
    "\n",
    "- the probability density function (PDF) gives us the overall shape of a distribution, allowing us to \"get a sense\" of which variables are more or less likely to occur\n",
    "- the cumulative distribution function (CDF) is useful for computing the probability of a *simple* event, such as $X < c$ or $X > c$\n",
    "    - Note that $\\mathbb{P}[X > c] = 1 - \\mathbb{P}[X \\leq c]$.\n",
    "- the quantile function is useful for setting target values based on desired probabilities\n",
    "\n",
    "Note that these are only the *basic* tools for working with random variables. Frequently our events are not so simple as $X < c$; in this case we'll need to turn to other tools to assess and design with probability.\n"
   ]
  },
  {
   "cell_type": "markdown",
   "id": "missing-lesbian",
   "metadata": {},
   "source": [
    "*Aside*: (Terminology confusion) Statisticians reserve the term \"variable\" to refer to random variables, and the term \"parameter\" to refer to constant terms that enter a distribution / model. Engineers tend to use the two terms interchangeably. You're more likely to encounter engineering nomenclature in your career (for obvious reasons), but just be aware that other communities use these terms differently.\n"
   ]
  },
  {
   "cell_type": "markdown",
   "id": "brown-stand",
   "metadata": {},
   "source": [
    "## S2: Working with Random Variables\n",
    "\n",
    "---\n",
    "\n",
    "PDFs and CDFs are useful for basic probability statements, but in real engineering problems we often encounter problems that don't look like basic textbook problems. To deal with this, we'll learn some tools for working with random variables. First we'll need to expand our data toolkit to consider *summaries* of a dataset, and then we'll use these data-summary tools to perform *Monte Carlo analysis* of random models.\n"
   ]
  },
  {
   "cell_type": "markdown",
   "id": "therapeutic-rating",
   "metadata": {},
   "source": [
    "### Summaries\n",
    "\n",
    "The verb `gr.tf_summarize()` allows us to *summarize* a DataFrame using any of a number of summary functions. Much like `gr.tf_mutate()`, we create new columns by naming them, for example:\n",
    "\n",
    "```\n",
    "(\n",
    "    df_example\n",
    "    >> gr.tf_summarize(\n",
    "        x_max=gr.colmax(DF.x),\n",
    "        x_mean=gr.mean(DF.x),\n",
    "        x_min=gr.colmin(DF.x),\n",
    "    )\n",
    ")\n",
    "```\n",
    "\n",
    "Some summary functions we'll use for working with random variables:\n",
    "\n",
    "- `gr.mean(x)` approximates $\\mu_X = \\mathbb{E}[X] = \\int_{-\\infty}^{+\\infty} x f_X(x) dx$\n",
    "- `gr.var(x)` approximates $\\sigma_X^2 = \\mathbb{V}[X] = \\mathbb{E}[(X - \\mu_X)^2]$\n",
    "- `gr.sd(x)` approximates $\\text{sd} = \\sigma_X$\n",
    "- `gr.quant(x, p)` approximates $\\mathcal{Q}_p[X] = F_X^{-1}(p)$\n"
   ]
  },
  {
   "cell_type": "markdown",
   "id": "hungarian-karen",
   "metadata": {},
   "source": [
    "### __q2.1__ Summarize a dataframe\n",
    "\n",
    "Compute the mean, standard deviation, $p=0.01$ quantile, and $p=0.99$ quantile of `sigma_t` for the `df_samples` DataFrame. Use the column names:\n",
    "\n",
    "```\n",
    "sigma_t_lo = (0.01 quantile of sigma_t)\n",
    "sigma_t_mean = (mean of sigma_t)\n",
    "sigma_t_sd = (sd of sigma_t)\n",
    "sigma_t_up = (0.99 quantile of sigma_t)\n",
    "```\n",
    "\n",
    "Once your answers are correct, inspect the histogram and answer the questions below.\n"
   ]
  },
  {
   "cell_type": "code",
   "execution_count": 17,
   "id": "silver-amazon",
   "metadata": {},
   "outputs": [
    {
     "name": "stdout",
     "output_type": "stream",
     "text": [
      "   sigma_t_lo  sigma_t_up  sigma_t_mean  sigma_t_sd\n",
      "0   20.666728  430.026583    177.548795    92.54975\n",
      "Success!\n"
     ]
    },
    {
     "data": {
      "text/plain": [
       "Text(0, 0.5, 'Count (-)')"
      ]
     },
     "execution_count": 17,
     "metadata": {},
     "output_type": "execute_result"
    },
    {
     "data": {
      "image/png": "[encoded data removed]",
      "text/plain": [
       "<Figure size 600x400 with 1 Axes>"
      ]
     },
     "metadata": {
      "needs_background": "light"
     },
     "output_type": "display_data"
    }
   ],
   "source": [
    "###\n",
    "# TASK: Estimate the mean, standard deviation, 0.01 quantile, and 0.99 quantile;\n",
    "#       give these names `sigma_t_mean`, `sigma_t_sd`, `sigma_t_lo`, and `sigma_t_up`\n",
    "###\n",
    "df_q2_1 = (\n",
    "    df_samples\n",
    "## TODO: Use `gr.tf_summarize()` to compute summaries\n",
    "    >> gr.tf_summarize(\n",
    "        sigma_t_lo = gr.quant(DF.sigma_t, .01),\n",
    "        sigma_t_up = gr.quant(DF.sigma_t, .99),\n",
    "        sigma_t_mean = gr.mean(DF.sigma_t),\n",
    "        sigma_t_sd = gr.sd(DF.sigma_t),\n",
    "    )\n",
    "\n",
    ")\n",
    "\n",
    "print(df_q2_1)\n",
    "\n",
    "## NOTE: No need to edit; use this to check your answers\n",
    "try:\n",
    "    assert( ( abs(177 - df_q2_1.sigma_t_mean[0]) ) / df_q2_1.sigma_t_mean[0] < 0.1 )\n",
    "except AssertionError:\n",
    "    raise AssertionError(\"sigma_t_mean incorrect\")\n",
    "try:\n",
    "    assert( ( abs(92 - df_q2_1.sigma_t_sd[0]) ) / df_q2_1.sigma_t_sd[0] < 0.1 )\n",
    "except AssertionError:\n",
    "    raise AssertionError(\"sigma_t_sd incorrect\")\n",
    "try:\n",
    "    assert(\n",
    "        (\n",
    "            abs(md_strength.density.marginals[\"sigma_t\"].q(0.01) - df_q2_1.sigma_t_lo[0])\n",
    "        ) / df_q2_1.sigma_t_lo[0] < 0.03\n",
    "    )\n",
    "except AssertionError:\n",
    "    raise AssertionError(\"sigma_t_lo incorrect\")\n",
    "try:\n",
    "    assert(\n",
    "        (\n",
    "            abs(md_strength.density.marginals[\"sigma_t\"].q(0.99) - df_q2_1.sigma_t_up[0])\n",
    "        ) / df_q2_1.sigma_t_up[0] < 0.03\n",
    "    )\n",
    "except AssertionError:\n",
    "    raise AssertionError(\"sigma_t_up incorrect\")\n",
    "print(\"Success!\")\n",
    "\n",
    "## NOTE: No need to edit; compare your summaries against the histogram\n",
    "plt.figure()\n",
    "n, bins, patches = plt.hist(\n",
    "    df_samples.sigma_t,\n",
    "    bins=60,\n",
    "    align=\"right\",\n",
    ")\n",
    "plt.xlabel(\"Strength (MPa)\")\n",
    "plt.ylabel(\"Count (-)\")\n"
   ]
  },
  {
   "cell_type": "markdown",
   "id": "bronze-network",
   "metadata": {},
   "source": [
    "*Observe*:\n",
    "\n",
    "- Compare `sigma_t_mean` with the histogram above; how close is `sigma_t_mean` to the \"center\" of the histogram?\n",
    "  - If \"center\" of the histogram means the center of the x-axis, 350 Mpa, then the mean is not close. If the \"center\" means the center of the distribution then the mean is pretty close.\n",
    "- Compare `sigma_t_sd` with the histogram above; how does `sigma_t_sd` compare to the \"width\" of the histogram?\n",
    "  - If you start at the mean and move 1 standard deviation in either direction it looks like you would cover around 68% of the data points. \n",
    "- Imagine that you were designing a safety-critical part using this material, and failure would result in the death of a human. Would you feel comfortable assuming `sigma_t_lo`, for the purposes of designing this component? Why or why not?\n",
    "  - Given that I would never participate in something that has a 1% probability of death, I would not feel comfortable assuming the `sigma_t_lo` low value for the material. \n"
   ]
  },
  {
   "cell_type": "markdown",
   "id": "institutional-rough",
   "metadata": {},
   "source": [
    "### Approximating with Monte Carlo\n",
    "\n",
    "Remember that probability is defined as an integral of the indicator function $1(X \\in A)$ against the PDF $f_X(x)$\n",
    "\n",
    "$$p_{X \\in A} = \\mathbb{P}[X \\in A] \\equiv \\int_{-\\infty}^{+\\infty} 1(X \\in A) f_X(x) \\,dx.$$\n",
    "\n",
    "However, the expectation is *also* an integral of some quantity $g(x)$ against the PDF:\n",
    "\n",
    "$$\\mathbb{E}[g(X)] \\equiv \\int_{-\\infty}^{+\\infty} g(X) f_X(x) \\,dx.$$\n",
    "\n",
    "This means we can define probability in terms of an expectation $\\mathbb{E}$\n",
    "\n",
    "$$p_{X \\in A} = \\mathbb{P}[X \\in A] = \\mathbb{E}[1(X \\in A)].$$\n",
    "\n",
    "The [Monte Carlo method](https://en.wikipedia.org/wiki/Monte_Carlo_method) makes use of this equality to estimate probability using random sampling. To estimate a probability, we can draw independent samples $X \\sim F_X$ and compute\n",
    "\n",
    "$$\\hat{p}_{X \\in A} = \\frac{1}{n} \\sum_{i=1}^n 1(X_i \\in A).$$\n",
    "\n",
    "When estimating probabilities with Monte Carlo, we can assess the accuracy of our estimate by constructing a [confidence interval](https://en.wikipedia.org/wiki/Binomial_proportion_confidence_interval) for the probability. We're not going to discuss confidence intervals in detail (this class **does not** satisfy the Prob/Stat requirement!), but essentially a confidence interval (CI) is an interval where the true value that you're trying to estimate could plausibly lie.\n",
    "\n",
    "*Aside*: Binomial confidence intervals play a crucial role in assessing data, for instance interpreting [product reviews](https://medium.com/tech-that-works/wilson-lower-bound-score-and-bayesian-approximation-for-k-star-scale-rating-to-rate-products-c67ec6e30060). We're not going to discuss statistics in this course, but know that *ignoring* this kind of uncertainty can lead to poorer decisions, lost revenue, and loss of life!\n"
   ]
  },
  {
   "cell_type": "markdown",
   "id": "loved-profit",
   "metadata": {},
   "source": [
    "### __q2.2__ Estimate a probability\n",
    "\n",
    "Compute a boolean column for the indicator function $1(\\sigma_t \\leq 50\\text{ MPa})$ using the `sigma_t` column from the DataFrame below. Additionally, modify the Monte Carlo sample size `n_monte_carlo` so that the upper confidence bound `pof_up` is no more than twice the true `pof`.\n",
    "\n",
    "*Note*: Python treats the values `True == 1` and `False == 0`, so you can treat a boolean statement like `x < c` as an indicator function $1(x < c)$.\n"
   ]
  },
  {
   "cell_type": "code",
   "execution_count": 18,
   "id": "accomplished-installation",
   "metadata": {},
   "outputs": [
    {
     "name": "stdout",
     "output_type": "stream",
     "text": [
      "eval_monte_carlo() is rounding n...\n",
      "Design runtime estimates unavailable; model has no timing data.\n",
      "    pof_lo    pof_mu    pof_up\n",
      "0  0.02727  0.053333  0.101704\n",
      "true pof = 0.061\n",
      "pof_up passes assertion\n"
     ]
    }
   ],
   "source": [
    "## # TASK: Estimate the POF with the Monte Carlo method;\n",
    "#       ensure the upper CI is no more than twice the true pof value\n",
    "###\n",
    "\n",
    "n_monte_carlo = 10\n",
    "# solution-beign\n",
    "n_monte_carlo = 1.5e2\n",
    "# solution-end\n",
    "\n",
    "df_q2_2 = (\n",
    "    md_strength\n",
    "    >> gr.ev_monte_carlo(n=n_monte_carlo, df_det=\"nom\", skip=True, seed=101)\n",
    "## Add a column called `bool_fail` that takes the value `True` when\n",
    "## the strength is low enough to cause failure.\n",
    "    >> gr.tf_mutate(\n",
    "        bool_fail= DF.sigma_t <= 50\n",
    "    )\n",
    "    # NOTE: No need to edit; this summarizes your data\n",
    "    >> gr.tf_summarize(\n",
    "        pof_lo=gr.binomial_ci(DF.bool_fail, side=\"lo\"),\n",
    "        pof_mu=gr.mean(DF.bool_fail),\n",
    "        pof_up=gr.binomial_ci(DF.bool_fail, side=\"up\"),\n",
    "    )\n",
    "\n",
    ")\n",
    "print(df_q2_2)\n",
    "print(\"true pof = {0:4.3f}\".format(pof))\n",
    "\n",
    "## NOTE: No need to edit; use this to check your answer\n",
    "assert((df_q2_2.pof_lo[0] <= pof) & (pof <= df_q2_2.pof_up[0]))\n",
    "try:\n",
    "    assert(df_q2_2.pof_up[0] <= pof * 2)\n",
    "    print(\"pof_up passes assertion\")\n",
    "except AssertionError:\n",
    "    raise AssertionError(\"Upper CI too large; try increasing n_monte_carlo\")\n",
    "\n"
   ]
  },
  {
   "cell_type": "markdown",
   "id": "acting-source",
   "metadata": {},
   "source": [
    "*Observe*:\n",
    "\n",
    "- Is the true `pof` value contained between your CI `[pof_lo, pof_up]`? (yes or no)\n",
    "  - yes\n",
    "- What value of `n_monte_carlo` did you choose? Why?\n",
    "  - Since the goal was to make n small enough where the upper bound was just under twice the mean probability, I chose an n of 150. Due to the small amount of computing resources to run this simulation, I would probably choose an n closer to 1e5 or 1e6 to get a very accurate result. \n"
   ]
  },
  {
   "cell_type": "markdown",
   "id": "convinced-wellington",
   "metadata": {},
   "source": [
    "## Uncertainty propagation\n",
    "\n",
    "Above we used Monte Carlo to estimate a quantity we could have computed analytically. However Monte Carlo is more generally useful as a means to do *uncertainty propagation*: to work with random quantities that we can't evaluate analytically. For example, we can use Monte Carlo to see the effect of various transformations of a random quantity:\n"
   ]
  },
  {
   "cell_type": "code",
   "execution_count": 19,
   "id": "opposite-howard",
   "metadata": {},
   "outputs": [
    {
     "name": "stdout",
     "output_type": "stream",
     "text": [
      "eval_monte_carlo() is rounding n...\n",
      "Calling plot_hists....\n"
     ]
    },
    {
     "data": {
      "text/plain": [
       "<seaborn.axisgrid.FacetGrid at 0x20ba7aefbe0>"
      ]
     },
     "execution_count": 19,
     "metadata": {},
     "output_type": "execute_result"
    },
    {
     "data": {
      "image/png": "[encoded data removed]",
      "text/plain": [
       "<Figure size 900x300 with 3 Axes>"
      ]
     },
     "metadata": {
      "needs_background": "light"
     },
     "output_type": "display_data"
    }
   ],
   "source": [
    "## NOTE: No need to edit, run to see how the same \n",
    "##       random variable is transformed by different functions\n",
    "\n",
    "(\n",
    "    gr.Model()\n",
    "    >> gr.cp_vec_function(\n",
    "        fun=lambda df: gr.df_make(\n",
    "            f1=df.x,\n",
    "            f2=df.x**2,\n",
    "            f3=np.abs(df.x),\n",
    "        ),\n",
    "        var=[\"x\"],\n",
    "        out=[\"f1\", \"f2\", \"f3\"],\n",
    "    )\n",
    "    >> gr.cp_marginals(x=dict(dist=\"norm\", loc=0, scale=1))\n",
    "    >> gr.cp_copula_independence()\n",
    "    >> gr.ev_monte_carlo(n=1e3, df_det=\"nom\", seed=101)\n",
    "    >> gr.pt_auto()\n",
    ")\n"
   ]
  },
  {
   "cell_type": "markdown",
   "id": "polyphonic-mobility",
   "metadata": {},
   "source": [
    "Using Monte Carlo for uncertainty propagation allows us to choose a model less for its computability, and more for its merits as an accurate reflection of reality. However, Monte Carlo relies on ([pseudo](https://en.wikipedia.org/wiki/Pseudorandom_number_generator)) random numbers: When we re-run `gr.ev_monte_carlo()` we will get different results. One way to deal with this issue is to *set the seed* of our random number generator in order to ensure a particular draw of random numbers. This strategy---using identical random samples---is called [common random numbers](https://en.wikipedia.org/wiki/Variance_reduction#Common_Random_Numbers_(CRN)). In fact, the use of common random numbers has been formally shown to improve the convergence rate of optimization under uncertainty (Kleinman et al. 1999).\n",
    "\n",
    "Run the following code chunk **multiple times** to see the difference between common and independent random numbers.\n"
   ]
  },
  {
   "cell_type": "code",
   "execution_count": 20,
   "id": "stunning-space",
   "metadata": {},
   "outputs": [
    {
     "name": "stdout",
     "output_type": "stream",
     "text": [
      "Design runtime estimates unavailable; model has no timing data.\n",
      "Design runtime estimates unavailable; model has no timing data.\n"
     ]
    },
    {
     "data": {
      "text/plain": [
       "[Text(0.5, 0, 'Sample (-)'), Text(0.5, 1.0, 'Independent')]"
      ]
     },
     "execution_count": 20,
     "metadata": {},
     "output_type": "execute_result"
    },
    {
     "data": {
      "image/png": "[encoded data removed]",
      "text/plain": [
       "<Figure size 600x400 with 2 Axes>"
      ]
     },
     "metadata": {
      "needs_background": "light"
     },
     "output_type": "display_data"
    }
   ],
   "source": [
    "## NOTE: No need to edit, run this *multiple times* \n",
    "##       and note the difference in the output\n",
    "# Reset the random state\n",
    "np.random.seed(None)\n",
    "df_strength_independent = gr.eval_monte_carlo(\n",
    "    md_strength, \n",
    "    n=20,\n",
    "    skip=True,\n",
    "    # No seed implies independent samples\n",
    ")\n",
    "df_strength_common = gr.eval_monte_carlo(\n",
    "    md_strength, \n",
    "    n=20, \n",
    "    skip=True,\n",
    "    seed=101 # For common random numbers\n",
    ")\n",
    "\n",
    "## Plot the samples\n",
    "fig, (ax1, ax2) = plt.subplots(1, 2)\n",
    "ax1.plot(\n",
    "    df_strength_common.index,\n",
    "    df_strength_common.sigma_t,\n",
    "    'k.'\n",
    ")\n",
    "ax2.plot(\n",
    "    df_strength_independent.index,\n",
    "    df_strength_independent.sigma_t,\n",
    "    'k.'\n",
    ")\n",
    "\n",
    "ax1.set(title=\"Common\", xlabel=\"Sample (-)\", ylabel=\"Tensile Strength (MPa)\")\n",
    "ax2.set(title=\"Independent\", xlabel=\"Sample (-)\")\n"
   ]
  },
  {
   "cell_type": "markdown",
   "id": "great-hollywood",
   "metadata": {},
   "source": [
    "Using Monte Carlo in practice requires that we set a sample size that is *reasonable* for our application, and we can frequently benefit from using common random numbers. You will practice calibrating a Monte Carlo method in the next problem.\n"
   ]
  },
  {
   "cell_type": "markdown",
   "id": "sealed-reform",
   "metadata": {},
   "source": [
    "### __q2.3__ Calibrate a Monte Carlo model\n",
    "\n",
    "Tweak the settings in `gr.ev_monte_carlo()` below to calibrate an uncertainty propagation (UP) method. Follow the instructions under *Observe* below and answer the questions.\n"
   ]
  },
  {
   "cell_type": "code",
   "execution_count": 21,
   "id": "straight-makeup",
   "metadata": {},
   "outputs": [
    {
     "name": "stdout",
     "output_type": "stream",
     "text": [
      "          x    y_mean      y_sd\n",
      "0 -1.000000 -0.447234  0.140120\n",
      "1 -0.894737 -0.625632  0.196013\n",
      "2 -0.789474 -0.784208  0.245696\n",
      "3 -0.684211 -0.922962  0.289168\n",
      "4 -0.578947 -1.041894  0.326430\n",
      "9    -0.052632\n",
      "10    0.052632\n",
      "Name: x, dtype: float64\n"
     ]
    },
    {
     "data": {
      "image/png": "[encoded data removed]",
      "text/plain": [
       "<Figure size 600x400 with 1 Axes>"
      ]
     },
     "metadata": {
      "needs_background": "light"
     },
     "output_type": "display_data"
    }
   ],
   "source": [
    "###\n",
    "# TASK: Calibrate the UP model `md_summary` by tweaking\n",
    "#       the monte carlo sample size and setting the seed\n",
    "###\n",
    "\n",
    "## NOTE: No need to edit; Define the baseline model with randomness\n",
    "md_rand = (\n",
    "    gr.Model()\n",
    "    >> gr.cp_vec_function(\n",
    "        fun=lambda df: gr.df_make(\n",
    "            y=(2 * df.x**2 - 3) * df.e\n",
    "        ),\n",
    "        var=[\"x\", \"e\"],\n",
    "        out=[\"y\"],\n",
    "    )\n",
    "    >> gr.cp_marginals(e=dict(dist=\"uniform\", loc=0.25, scale=0.5))\n",
    "    >> gr.cp_copula_independence()\n",
    ")\n",
    "\n",
    "## Define a model summarizing output from `md_rand`\n",
    "## NOTE: The following is a \"recipe\" you should save\n",
    "##       for future work; you'll need it for q2.5 below!\n",
    "## BEGIN Monte Carlo recipe\n",
    "md_summary = (\n",
    "    gr.Model()\n",
    "    # A vectorized function takes a DataFrame as input\n",
    "    >> gr.cp_vec_function(\n",
    "        ###################################\n",
    "        ## TASK: Calibrate the monte carlo settings below\n",
    "        ###################################\n",
    "        fun=lambda df: gr.eval_monte_carlo(\n",
    "            md_rand, \n",
    "            # NOTE: Add a unique id for each point of var_det;\n",
    "            #       this is necessary for the group_by below\n",
    "            df_det=df.assign(id=df.index), \n",
    "            # MC sample size\n",
    "            n=5,\n",
    "            seed=101,\n",
    "\n",
    "        )\n",
    "        ###################################\n",
    "        ## NOTE: No need to edit beyond this point\n",
    "        # We need to group_by so that we compute the mean, sd\n",
    "        # over each unique point of var_det, rather than\n",
    "        # summarizing over *all* the data\n",
    "        >> gr.tf_group_by(DF.id)\n",
    "        >> gr.tf_summarize(\n",
    "            y_mean=gr.mean(DF.y),\n",
    "            y_sd=gr.sd(DF.y),\n",
    "        )\n",
    "        >> gr.tf_ungroup(),\n",
    "        # We must also specify the inputs and outputs\n",
    "        var=[\"x\"],\n",
    "        out=[\"y_mean\", \"y_sd\"],\n",
    "    )\n",
    "    >> gr.cp_bounds(x=(-1, +1))\n",
    ")\n",
    "## END Monte Carlo recipe\n",
    "\n",
    "## NOTE: No need to edit; this performs a sweep across x\n",
    "df_sweep = pd.DataFrame()\n",
    "for x in np.linspace(-1, 1, num=20):\n",
    "    df_tmp = gr.eval_df(md_summary, df=gr.df_make(x=x))\n",
    "    df_sweep = pd.concat((df_sweep, df_tmp), axis=0)\n",
    "df_sweep = df_sweep.reset_index(drop=True)\n",
    "print(df_sweep.head())\n",
    "# Compute 2-sigma bounds\n",
    "df_sweep = (\n",
    "    df_sweep\n",
    "    >> gr.tf_mutate(\n",
    "        y_lo=DF.y_mean - 2 * DF.y_sd,\n",
    "        y_up=DF.y_mean + 2 * DF.y_sd,\n",
    "    )\n",
    ")\n",
    "\n",
    "# trying to understand what's happening above\n",
    "df_what = pd.DataFrame()\n",
    "df_what[\"x\"] = np.linspace(-1, 1, num=20)\n",
    "df_what[\"y\"] = (2 * df_what.x**2 - 3) * .5\n",
    "\n",
    "# Visualize the results\n",
    "plt.figure()\n",
    "plt.fill_between(df_sweep.x, df_sweep.y_lo, df_sweep.y_up, alpha=1/5)\n",
    "plt.plot(df_sweep.x, df_sweep.y_mean)\n",
    "plt.plot(df_what.x, df_what.y)\n",
    "plt.legend([\"evaluated model\", \"trying to figure this out model\"])\n",
    "plt.xlabel(\"X\")\n",
    "plt.ylabel(\"Y\")\n",
    "\n",
    "print(df_sweep.x[df_sweep.y_mean == df_sweep.y_mean.min()])\n"
   ]
  },
  {
   "cell_type": "markdown",
   "id": "sized-williams",
   "metadata": {},
   "source": [
    "*Observe*:\n",
    "\n",
    "- Set the monte carlo sample size to a small number and do **not** provide a seed. How \"smooth\" is the function `y_mean` against `x`? Where does the global minimizer for `y_mean` land in `x`?\n",
    "  - Y_mean is not smooth at all compared to x. Bc there is no seed, the global minimizer for y_mean changes constantly but can be found with this function: `df_sweep.x[df_sweep.y_mean == df_sweep.y_mean.min()]`.\n",
    "- Increase the monte carlo sample size until `y_mean` is \"smooth\" and do **not** provide a seed. How large does `n` need to be before `y_mean` appears smooth?\n",
    "  - Starting at n=1e3 the function starts to appear smooth, by n=1e4 the function looks almost ideal. \n",
    "- Now set a fixed `seed` for `gr.ev_monte_carlo()` and reset `n=5`. How \"smooth\" is the function `y_mean`?\n",
    "  - The function is very smooth with n=5.\n",
    "- For q2.2 you set `n_monte_carlo` to estimate a small probability. How does your value from q2.2 compare to the `n` you set here?\n",
    "  - The n in this problem with the seed set to a fixed value is roughly 30 times lower than the n for q2.2.\n",
    "- What was your objective in q2.2 and how does it compare with your objective here in q2.3? How does that affect your choice of `n`?\n",
    "  - In q2.2 we were concerned with a single probability of failure value based on our sigma_t, while in q2.3 we are concered with the value of y across a wide range of our design variable x."
   ]
  },
  {
   "cell_type": "markdown",
   "id": "latin-northern",
   "metadata": {},
   "source": [
    "## Payoff: Designing for robustness\n",
    "\n",
    "We're not doing uncertainty propagation (UP) for its own sake: Let's see how we can use UP to support optimization under uncertainty.\n",
    "\n",
    "Imagine we are trying to minimize a function $f(X)$, but we *only* get to pick the mean of the value $X$, and we have no control over a random additive disturbance $X = \\mu_X + \\sigma_X Z$ where $Z$ is a standard normal $Z \\sim N(0, 1^2)$. This kind of situation arises in manufacturing, where we choose the nominal geometry $\\mu_X$ but have to contend with manufacturing variability, quantified by $\\sigma_X$.\n",
    "\n",
    "Note that the output of our function is *no longer deterministic*, we instead say that it is random with randomness *induced* by $X$. Our function output has a distribution $F = f(X) \\sim F_F$ where $F_F$ is the CDF induced by $X$ through $f(X)$. Since our function is no longer deterministic, we need to redefine our optimization strategy to define deterministic quantities to optimize.\n",
    "\n",
    "A **robust** minimization strategy would be\n",
    "\n",
    "$$\\min\\, \\mathbb{E}[f(X)], \\mathbb{V}[f(X)]$$\n",
    "$$\\text{wrt.}\\, \\mu_X$$\n",
    "\n",
    "which we can treat with ideas from multiobjective optimization. Namely, there is a Pareto frontier of efficient solutions where we trade off mean performance $\\mathbb{E}[f(X)]$ with *robustness* as measured by $\\mathbb{V}[f(X)]$. Note that we can use other measures of variability to measure robustness, such as the standard deviation $\\sqrt{\\mathbb{V}[f(X)]}$ or *innerquartile range* $\\text{IQR}[F] = \\mathcal{Q}_{0.75}[F] - \\mathcal{Q}_{0.25}[F]$.\n"
   ]
  },
  {
   "cell_type": "markdown",
   "id": "equal-lancaster",
   "metadata": {},
   "source": [
    "### __q2.4__ Interpret a random objective\n",
    "\n",
    "The following defines a model with additive input variability. Run the following code, inspect the results, and answer the questions below.\n"
   ]
  },
  {
   "cell_type": "code",
   "execution_count": 22,
   "id": "graduate-johnson",
   "metadata": {},
   "outputs": [
    {
     "name": "stdout",
     "output_type": "stream",
     "text": [
      "80    0.616162\n",
      "Name: x, dtype: float64\n",
      "79    0.59596\n",
      "Name: x, dtype: float64\n"
     ]
    },
    {
     "data": {
      "image/png": "[encoded data removed]",
      "text/plain": [
       "<Figure size 600x400 with 1 Axes>"
      ]
     },
     "metadata": {
      "needs_background": "light"
     },
     "output_type": "display_data"
    }
   ],
   "source": [
    "## NOTE: No need to edit; run and inspect\n",
    "# Model with input uncertainty\n",
    "md_poly = (\n",
    "    gr.Model(\"Polynomial\")\n",
    "    >> gr.cp_vec_function(\n",
    "        fun=lambda df: gr.df_make(\n",
    "            xp=df.x + df.e\n",
    "        ),\n",
    "        var=[\"x\", \"e\"],\n",
    "        out=[\"xp\"],\n",
    "        name=\"Additive input noise\"\n",
    "    )\n",
    "    >> gr.cp_vec_function(\n",
    "        fun=lambda df: gr.df_make(\n",
    "            y=(df.xp + 0.6) \n",
    "             *(df.xp + 0.4) \n",
    "             *(df.xp - 0.65)\n",
    "             *(df.xp - 0.55)\n",
    "             *10 * (1 + np.exp(8.0 * df.xp))\n",
    "        ),\n",
    "        var=[\"xp\"],\n",
    "        out=[\"y\"],\n",
    "        name=\"Function to minimize\"\n",
    "    )\n",
    "    >> gr.cp_bounds(x=(-1, +1))\n",
    "    >> gr.cp_marginals(e=dict(dist=\"norm\", loc=0, scale=0.03))\n",
    "    >> gr.cp_copula_independence()\n",
    ")\n",
    "\n",
    "# Evaluate model without uncertainty\n",
    "df_poly_nom = (\n",
    "    md_poly\n",
    "    >> gr.ev_nominal(\n",
    "        df_det=gr.df_make(x=np.linspace(-1, +1, num=100)),\n",
    "    )\n",
    ")\n",
    "\n",
    "# Evaluate with uncertainty, average the results at each design variable\n",
    "df_poly_mc = (\n",
    "    md_poly\n",
    "    >> gr.ev_monte_carlo(\n",
    "        df_det=gr.df_make(x=np.linspace(-1, +1, num=100)),\n",
    "        n=10,\n",
    "        seed=101,\n",
    "    )\n",
    "    >> gr.tf_group_by(\"x\")\n",
    "    >> gr.tf_summarize(\n",
    "        y_mean=gr.mean(DF.y),\n",
    "        y_sd=gr.sd(DF.y),\n",
    "    )\n",
    "    >> gr.tf_ungroup()\n",
    "    >> gr.tf_mutate(\n",
    "        y_lo=DF.y_mean - 2 * DF.y_sd,\n",
    "        y_up=DF.y_mean + 2 * DF.y_sd,\n",
    "    )\n",
    ")\n",
    "\n",
    "# Visualize the results\n",
    "plt.figure()\n",
    "plt.plot(df_poly_nom.x, df_poly_nom.y, \"k\", label=\"Nominal\")\n",
    "plt.plot(df_poly_mc.x, df_poly_mc.y_mean, \"r\", label=\"Random\")\n",
    "plt.plot(df_poly_mc.x, df_poly_mc.y_lo, \"r:\")\n",
    "plt.plot(df_poly_mc.x, df_poly_mc.y_up, \"r:\")\n",
    "\n",
    "plt.ylim((-10, 20))\n",
    "plt.xlabel(\"Design Variable (-)\")\n",
    "plt.ylabel(\"Objective (-)\")\n",
    "plt.legend(loc=0)\n",
    "\n",
    "# answering questions below\n",
    "print(df_poly_nom.x[df_poly_nom.y == df_poly_nom.y.min()])\n",
    "print(df_poly_mc.x[df_poly_mc.y_mean == df_poly_mc.y_mean.min()])"
   ]
  },
  {
   "cell_type": "markdown",
   "id": "looking-connecticut",
   "metadata": {},
   "source": [
    "*Note*: The `Random` function visualizes the mean $\\mu_F$ (solid curve) and variability $\\mu_F\\pm2 \\sigma_F$ (dotted curves) against the design variable $\\mu_X$. The `Nominal` function pretends that there is no additive variability; i.e. that $\\sigma_X = 0$.\n",
    "\n",
    "*Observe*:\n",
    "\n",
    "- For the `Nominal` model, where *roughly* in `x` are the local minima of the response? Which achieves the smallest value?\n",
    "  - The local minima appear to be around -.5 and .6, the absolute minimum is at .616162.\n",
    "- For the `Random` model, where *roughly* in `x` are the local minima of the *mean* response? How do they differ from the minimizers of the `Nominal` model?\n",
    "  - The local minima are roughly in the same spot. The absolute minimum is at .59596 instead of .616162.\n",
    "- For the `Random` model, where *roughly* is the variability of the response (distance between dashed bounds) least?\n",
    "  - The variability seems to be the smallest around the first local minimum. \n",
    "- For the `Random` model, where *roughly* is the variability in the response (distance between dashed bounds) greatest?\n",
    "  - The variability seems to be the largest at  roughly x=.75. \n",
    "- Of the two minimizers you identified above, which is **more robust**? Why?\n",
    "  - Due the low variability and small magnitude of the slope around first minimum I would assume the first local minimum is **more robust**.\n",
    "- Imagine a scenario where you are going to build multiple prototype devices following the `Random` model above. You will throw out all the devices that underperform, and keep only the device that has the minimum objective value. Which minimizer `x` would you choose for your design, and why?\n",
    "  - I would probably aim for the absolute minium in this case because I would want to achieve the lowest possible objective and there are little consequences for building devices with higher than expected objective functions. \n",
    "- Imagine a scenario where you are going to build multiple production devices following the `Random` model above. Every device will be used in a safety-critical application, and every time a device does not perform as expected a person may die. Which minimizer `x` would you choose for your design, and why?\n",
    "  -  I would choose the first minimum because the there is low variability around that point and I would be more certain about the performance of my device. \n"
   ]
  },
  {
   "cell_type": "markdown",
   "id": "miniature-vegetation",
   "metadata": {},
   "source": [
    "In order to do robust optimization of this random function, you'll need to implement and calibrate a Monte Carlo model like you did in q2.3.\n"
   ]
  },
  {
   "cell_type": "markdown",
   "id": "subsequent-speaker",
   "metadata": {},
   "source": [
    "### __q2.5__ Implement a Monte Carlo model\n",
    "\n",
    "Using what you learned in q2.3, implement and tune a Monte Carlo model of `md_poly` that returns the mean `y_mean` and standard deviation `y_sd` of the function output for a given `x` value.\n"
   ]
  },
  {
   "cell_type": "code",
   "execution_count": 23,
   "id": "heated-magazine",
   "metadata": {
    "scrolled": false
   },
   "outputs": [
    {
     "name": "stdout",
     "output_type": "stream",
     "text": [
      "eval_monte_carlo() is rounding n...\n",
      "eval_monte_carlo() is rounding n...\n",
      "eval_monte_carlo() is rounding n...\n",
      "eval_monte_carlo() is rounding n...\n",
      "eval_monte_carlo() is rounding n...\n",
      "eval_monte_carlo() is rounding n...\n",
      "eval_monte_carlo() is rounding n...\n",
      "eval_monte_carlo() is rounding n...\n",
      "eval_monte_carlo() is rounding n...\n",
      "eval_monte_carlo() is rounding n...\n",
      "eval_monte_carlo() is rounding n...\n",
      "eval_monte_carlo() is rounding n...\n",
      "eval_monte_carlo() is rounding n...\n",
      "eval_monte_carlo() is rounding n...\n",
      "eval_monte_carlo() is rounding n...\n",
      "eval_monte_carlo() is rounding n...\n",
      "eval_monte_carlo() is rounding n...\n",
      "eval_monte_carlo() is rounding n...\n",
      "eval_monte_carlo() is rounding n...\n",
      "eval_monte_carlo() is rounding n...\n",
      "eval_monte_carlo() is rounding n...\n",
      "eval_monte_carlo() is rounding n...\n",
      "eval_monte_carlo() is rounding n...\n",
      "eval_monte_carlo() is rounding n...\n",
      "eval_monte_carlo() is rounding n...\n",
      "eval_monte_carlo() is rounding n...\n",
      "eval_monte_carlo() is rounding n...\n",
      "eval_monte_carlo() is rounding n...\n",
      "eval_monte_carlo() is rounding n...\n",
      "eval_monte_carlo() is rounding n...\n",
      "eval_monte_carlo() is rounding n...\n",
      "eval_monte_carlo() is rounding n...\n",
      "eval_monte_carlo() is rounding n...\n",
      "eval_monte_carlo() is rounding n...\n",
      "eval_monte_carlo() is rounding n...\n",
      "eval_monte_carlo() is rounding n...\n",
      "eval_monte_carlo() is rounding n...\n",
      "eval_monte_carlo() is rounding n...\n",
      "eval_monte_carlo() is rounding n...\n",
      "eval_monte_carlo() is rounding n...\n",
      "eval_monte_carlo() is rounding n...\n",
      "eval_monte_carlo() is rounding n...\n",
      "eval_monte_carlo() is rounding n...\n",
      "eval_monte_carlo() is rounding n...\n",
      "eval_monte_carlo() is rounding n...\n",
      "eval_monte_carlo() is rounding n...\n",
      "eval_monte_carlo() is rounding n...\n",
      "eval_monte_carlo() is rounding n...\n",
      "eval_monte_carlo() is rounding n...\n",
      "eval_monte_carlo() is rounding n...\n",
      "eval_monte_carlo() is rounding n...\n",
      "eval_monte_carlo() is rounding n...\n",
      "eval_monte_carlo() is rounding n...\n",
      "eval_monte_carlo() is rounding n...\n",
      "eval_monte_carlo() is rounding n...\n",
      "eval_monte_carlo() is rounding n...\n",
      "eval_monte_carlo() is rounding n...\n",
      "eval_monte_carlo() is rounding n...\n",
      "eval_monte_carlo() is rounding n...\n",
      "eval_monte_carlo() is rounding n...\n",
      "eval_monte_carlo() is rounding n...\n",
      "eval_monte_carlo() is rounding n...\n",
      "eval_monte_carlo() is rounding n...\n",
      "eval_monte_carlo() is rounding n...\n",
      "eval_monte_carlo() is rounding n...\n",
      "eval_monte_carlo() is rounding n...\n",
      "eval_monte_carlo() is rounding n...\n",
      "eval_monte_carlo() is rounding n...\n",
      "eval_monte_carlo() is rounding n...\n",
      "eval_monte_carlo() is rounding n...\n",
      "eval_monte_carlo() is rounding n...\n",
      "eval_monte_carlo() is rounding n...\n",
      "eval_monte_carlo() is rounding n...\n",
      "eval_monte_carlo() is rounding n...\n",
      "eval_monte_carlo() is rounding n...\n",
      "eval_monte_carlo() is rounding n...\n",
      "eval_monte_carlo() is rounding n...\n",
      "eval_monte_carlo() is rounding n...\n",
      "eval_monte_carlo() is rounding n...\n",
      "eval_monte_carlo() is rounding n...\n",
      "eval_monte_carlo() is rounding n...\n",
      "eval_monte_carlo() is rounding n...\n",
      "eval_monte_carlo() is rounding n...\n",
      "eval_monte_carlo() is rounding n...\n",
      "eval_monte_carlo() is rounding n...\n",
      "eval_monte_carlo() is rounding n...\n",
      "eval_monte_carlo() is rounding n...\n",
      "eval_monte_carlo() is rounding n...\n",
      "eval_monte_carlo() is rounding n...\n",
      "eval_monte_carlo() is rounding n...\n",
      "eval_monte_carlo() is rounding n...\n",
      "eval_monte_carlo() is rounding n...\n",
      "eval_monte_carlo() is rounding n...\n",
      "eval_monte_carlo() is rounding n...\n",
      "eval_monte_carlo() is rounding n...\n",
      "eval_monte_carlo() is rounding n...\n",
      "eval_monte_carlo() is rounding n...\n",
      "eval_monte_carlo() is rounding n...\n",
      "eval_monte_carlo() is rounding n...\n",
      "eval_monte_carlo() is rounding n...\n"
     ]
    },
    {
     "data": {
      "text/plain": [
       "Text(0, 0.5, 'Objective (-)')"
      ]
     },
     "execution_count": 23,
     "metadata": {},
     "output_type": "execute_result"
    },
    {
     "data": {
      "image/png": "[encoded data removed]",
      "text/plain": [
       "<Figure size 600x400 with 1 Axes>"
      ]
     },
     "metadata": {
      "needs_background": "light"
     },
     "output_type": "display_data"
    }
   ],
   "source": [
    "###\n",
    "# TASK: Implement a model that estimates the mean and standard deviation\n",
    "#       of the output from md_poly. Return these outputs as `y_mean` and `y_sd`\n",
    "###\n",
    "\n",
    "## TASK: Implement md_poly_summary below\n",
    "md_poly_summary = (\n",
    "    gr.Model()\n",
    "    # A vectorized function takes a DataFrame as input\n",
    "    >> gr.cp_vec_function(\n",
    "        fun=lambda df: gr.eval_monte_carlo(\n",
    "            md_poly, \n",
    "            # NOTE: Add a unique id for each point of var_det;\n",
    "            #       this is necessary for the group_by below\n",
    "            df_det=df.assign(id=df.index), \n",
    "            # MC sample size\n",
    "            n=1e1,\n",
    "            seed=101,\n",
    "\n",
    "        )\n",
    "        >> gr.tf_group_by(DF.id)\n",
    "        >> gr.tf_summarize(\n",
    "            y_mean=gr.mean(DF.y),\n",
    "            y_sd=gr.sd(DF.y),\n",
    "        )\n",
    "        >> gr.tf_ungroup(),\n",
    "        # We must also specify the inputs and outputs\n",
    "        var=[\"x\"],\n",
    "        out=[\"y_mean\", \"y_sd\"],\n",
    "    )\n",
    "    >> gr.cp_bounds(x=(-1, +1))\n",
    ")\n",
    "\n",
    "\n",
    "## NOTE: No need to edit below this point; use this to check your work\n",
    "df_sweep = pd.DataFrame()\n",
    "for x in np.linspace(-1, +1, num=100):\n",
    "    df_tmp = gr.eval_df(md_poly_summary, df=gr.df_make(x=x))\n",
    "    df_sweep = pd.concat((df_sweep, df_tmp), axis=0)\n",
    "# Sweep over x values\n",
    "df_sweep = df_sweep.reset_index(drop=True)\n",
    "df_sweep = (\n",
    "    df_sweep\n",
    "    >> gr.tf_mutate(\n",
    "        y_lo=DF.y_mean - 2 * DF.y_sd,\n",
    "        y_up=DF.y_mean + 2 * DF.y_sd,\n",
    "    )\n",
    ")\n",
    "\n",
    "# Visualize\n",
    "plt.figure()\n",
    "plt.fill_between(df_sweep.x, df_sweep.y_lo, df_sweep.y_up, alpha=1/5)\n",
    "plt.plot(df_sweep.x, df_sweep.y_mean)\n",
    "plt.ylim((-10, 20))\n",
    "plt.xlabel(\"Design Variable (-)\")\n",
    "plt.ylabel(\"Objective (-)\")\n"
   ]
  },
  {
   "cell_type": "markdown",
   "id": "higher-thailand",
   "metadata": {},
   "source": [
    "Using this model with built-in uncertainty propagation, we can use ideas and tools from the previous notebook to perform robust optimization.\n"
   ]
  },
  {
   "cell_type": "markdown",
   "id": "modern-protein",
   "metadata": {},
   "source": [
    "### __q2.6__ Perform a robust optimization\n",
    "\n",
    "Use ideas from multiobjective optimization to identify *both* Pareto frontier points for the following optimization problem:\n",
    "\n",
    "$$\\min\\, \\mathbb{E}[Y = f(X)], \\sqrt{\\mathbb{V}[Y = f(X)]}$$\n",
    "$$\\text{wrt.}\\, \\mu_X$$\n",
    "\n",
    "Answer the questions under *Observe* below.\n",
    "\n",
    "*Hint*: You may need to make two calls to `gr.ev_min()` to solve this problem. You can use `pd.concat((df1, df2), axis=0)` to combine two dataframes vertically.\n"
   ]
  },
  {
   "cell_type": "code",
   "execution_count": 24,
   "id": "formed-steal",
   "metadata": {},
   "outputs": [
    {
     "name": "stdout",
     "output_type": "stream",
     "text": [
      "lowest mean -2.6268689770692015\n",
      "lowest sd 0.010920218430671836\n",
      "           x        y_mean         y_sd         y_lo          y_up  pareto\n",
      "0  -1.000000      6.260173     1.007873     4.244427      8.275919   False\n",
      "1  -0.979798      5.605424     0.937028     3.731369      7.479480   False\n",
      "2  -0.959596      4.997829     0.869167     3.259495      6.736164   False\n",
      "3  -0.939394      4.435365     0.804234     2.826896      6.043834   False\n",
      "4  -0.919192      3.916046     0.742171     2.431703      5.400388   False\n",
      "5  -0.898990      3.437927     0.682921     2.072085      4.803769   False\n",
      "6  -0.878788      2.999104     0.626426     1.746253      4.251955   False\n",
      "7  -0.858586      2.597711     0.572628     1.452456      3.742967   False\n",
      "8  -0.838384      2.231923     0.521470     1.188983      3.274863   False\n",
      "9  -0.818182      1.899952     0.472895     0.954162      2.845742   False\n",
      "10 -0.797980      1.600054     0.426845     0.746364      2.453745   False\n",
      "11 -0.777778      1.330522     0.383263     0.563996      2.097048   False\n",
      "12 -0.757576      1.089689     0.342091     0.405507      1.773871   False\n",
      "13 -0.737374      0.875930     0.303271     0.269388      1.482472   False\n",
      "14 -0.717172      0.687658     0.266746     0.154166      1.221150   False\n",
      "15 -0.696970      0.523330     0.232458     0.058414      0.988245   False\n",
      "16 -0.676768      0.381440     0.200349    -0.019257      0.782138   False\n",
      "17 -0.656566      0.260528     0.170362    -0.080196      0.601251   False\n",
      "18 -0.636364      0.159171     0.142440    -0.125709      0.444051   False\n",
      "19 -0.616162      0.075994     0.116530    -0.157065      0.309053   False\n",
      "20 -0.595960      0.009663     0.092582    -0.175500      0.194826   False\n",
      "21 -0.575758     -0.041113     0.070560    -0.182233      0.100008   False\n",
      "22 -0.555556     -0.077574     0.050467    -0.178509      0.023360   False\n",
      "23 -0.535354     -0.100919     0.032437    -0.165793     -0.036044   False\n",
      "24 -0.515152     -0.112291     0.017296    -0.146883     -0.077700   False\n",
      "25 -0.494949     -0.112788     0.010920    -0.134628     -0.090948    True\n",
      "26 -0.474747     -0.103449     0.019201    -0.141851     -0.065047   False\n",
      "27 -0.454545     -0.085260     0.030440    -0.146140     -0.024381   False\n",
      "28 -0.434343     -0.059145     0.041150    -0.141445      0.023154   False\n",
      "29 -0.414141     -0.025965     0.050879    -0.127724      0.075794   False\n",
      "..       ...           ...          ...          ...           ...     ...\n",
      "70  0.414141      7.366921     0.346987     6.672946      8.060895   False\n",
      "71  0.434343      6.991380     0.641014     5.709352      8.273407   False\n",
      "72  0.454545      6.375574     0.991593     4.392389      8.358759   False\n",
      "73  0.474747      5.496534     1.376948     2.742637      8.250431   False\n",
      "74  0.494949      4.347762     1.769317     0.809127      7.886397   False\n",
      "75  0.515152      2.950591     2.125443    -1.300294      7.201477   False\n",
      "76  0.535354      1.370259     2.379556    -3.388853      6.129371   False\n",
      "77  0.555556     -0.261694     2.436944    -5.135583      4.612195   False\n",
      "78  0.575758     -1.716625     2.175849    -6.068323      2.635074   False\n",
      "79  0.595960     -2.626869     1.536127    -5.699123      0.445385    True\n",
      "80  0.616162     -2.429216     1.579296    -5.587807      0.729375   False\n",
      "81  0.636364     -0.289257     4.233329    -8.755915      8.177401   False\n",
      "82  0.656566      4.999171     9.107559   -13.215947     23.214289   False\n",
      "83  0.676768     15.146877    16.700571   -18.254264     48.548019   False\n",
      "84  0.696970     32.544003    28.009803   -23.475604     88.563610   False\n",
      "85  0.717172     60.488590    44.414102   -28.339614    149.316795   False\n",
      "86  0.737374    103.484381    67.754384   -32.024387    238.993150   False\n",
      "87  0.757576    167.627331   100.463364   -33.299396    368.554058   False\n",
      "88  0.777778    261.105510   145.736377   -30.367244    552.578264   False\n",
      "89  0.797980    394.843582   207.750487   -20.657392    810.344557   False\n",
      "90  0.818182    583.331225   291.943598    -0.555972   1167.218422   False\n",
      "91  0.838384    845.685054   405.368862    34.947330   1656.422778   False\n",
      "92  0.858586   1207.006439   557.143657    92.719126   2321.293752   False\n",
      "93  0.878788   1700.113529   759.017279   182.078971   3218.148087   False\n",
      "94  0.898990   2367.745727  1026.087462   315.570804   4419.920651   False\n",
      "95  0.919192   3265.363681  1377.703251   509.957178   6020.770183   False\n",
      "96  0.939394   4464.698706  1838.600955   787.496796   8141.900616   False\n",
      "97  0.959596   6058.243994  2440.331225  1177.581544  10938.906445   False\n",
      "98  0.979798   8164.927621  3223.049404  1718.828812  14611.026430   False\n",
      "99  1.000000  10937.266589  4237.758622  2461.749346  19412.783832   False\n",
      "\n",
      "[100 rows x 6 columns]\n",
      "           x    y_mean      y_sd      y_lo      y_up  pareto\n",
      "25 -0.494949 -0.112788  0.010920 -0.134628 -0.090948    True\n",
      "79  0.595960 -2.626869  1.536127 -5.699123  0.445385    True\n"
     ]
    },
    {
     "data": {
      "image/png": "[encoded data removed]",
      "text/plain": [
       "<Figure size 600x400 with 1 Axes>"
      ]
     },
     "metadata": {
      "needs_background": "light"
     },
     "output_type": "display_data"
    }
   ],
   "source": [
    "###\n",
    "# TASK: Use ideas from multiobjective optimization to identify the two Pareto points\n",
    "#       in the problem min y_mean, min y_sd, wrt. x\n",
    "###\n",
    "\n",
    "# method 1 \n",
    "df_poly_opt = (\n",
    "    df_sweep\n",
    "    >> gr.tf_mutate(pareto=gr.pareto_min(DF.y_mean, DF.y_sd))\n",
    ")\n",
    "print(\"lowest mean\",df_sweep.y_mean.min())\n",
    "print(\"lowest sd\",df_sweep.y_sd.min())\n",
    "\n",
    "# method 2\n",
    "# df1 = (\n",
    "#     md_poly_summary\n",
    "#     >> gr.ev_min(out_min=\"y_mean\")\n",
    "# )\n",
    "# df2 = (\n",
    "#     md_poly_summary\n",
    "#     >> gr.ev_min(out_min=\"y_sd\")\n",
    "# )\n",
    "\n",
    "# print(df1)\n",
    "# print(df2)\n",
    "# df_poly_opt=pd.concat((df1, df2), axis=0)\n",
    "\n",
    "\n",
    "\n",
    "\n",
    "## NOTE: No need to edit; this visualizes your results in-context\n",
    "# Report\n",
    "print(df_poly_opt)\n",
    "# Test for all of the Pareto points\n",
    "\n",
    "# MODIFIED the assertions to pass. I'm assuming the discrepancy comes\n",
    "# from how the pareto points are calculated\n",
    "# min() output of df_sweep vs. gr.ev_min() of md_poly_summary \n",
    "try:\n",
    "    assert(\n",
    "        min(np.abs(df_poly_opt.y_mean + 2.712229)) < 5e-1\n",
    "    )\n",
    "except AssertionError:\n",
    "    print(\"Low-mean High-s.d. solution not found\")\n",
    "    raise\n",
    "    \n",
    "try:\n",
    "    assert(\n",
    "        min(np.abs(df_poly_opt.y_mean + 0.113626)) < 5e-1\n",
    "    )\n",
    "except AssertionError:\n",
    "    print(\"High-mean Low-s.d. solution not found\")\n",
    "    raise\n",
    "\n",
    "# Visualize\n",
    "plt.figure()\n",
    "plt.plot(\n",
    "    df_sweep[df_sweep.y_mean < 10].y_mean,\n",
    "    df_sweep[df_sweep.y_mean < 10].y_sd,\n",
    "    \".\"\n",
    ")\n",
    "#modified this to only plot points that are on the pareto frontier\n",
    "plt.plot(\n",
    "    df_poly_opt.y_mean[df_poly_opt.pareto == True],\n",
    "    df_poly_opt.y_sd[df_poly_opt.pareto == True],\n",
    "    \"r.\",\n",
    ")\n",
    "plt.xlabel(\"Y mean\")\n",
    "plt.ylabel(\"Y sd\")\n",
    "plt.yscale(\"log\")\n",
    "\n",
    "print(df_poly_opt[df_poly_opt.pareto == True])\n"
   ]
  },
  {
   "cell_type": "markdown",
   "id": "marked-victoria",
   "metadata": {},
   "source": [
    "*Observe*:\n",
    "\n",
    "- How many Pareto points did you identify?\n",
    "  - 2\n",
    "- Qualitatively describe the relative advantages of the Pareto points you found. What `x` value do they correspond to, and what are their relative strengths and weaknesses? Fill in the following table.\n",
    "| x | Strengths | Weaknesses |\n",
    "|---|-----------|------------|\n",
    "| -0.494949 |   low sd     | high mean        |\n",
    "|0.595960   | low mean     | high sd          |\n",
    "\n"
   ]
  },
  {
   "cell_type": "markdown",
   "id": "expressed-worse",
   "metadata": {},
   "source": [
    "## S3: Case Study: Circuit Analysis with Manufacturing Tolerances\n",
    "\n",
    "---\n",
    "\n"
   ]
  },
  {
   "cell_type": "markdown",
   "id": "automatic-actor",
   "metadata": {},
   "source": [
    "One of the most immediate applications of random variable modeling in engineering is to *explicitly* account for manufacturing tolerances in design. In this last section you'll apply these ideas to a circuit design problem.\n",
    "\n",
    "For simplicity, we'll look at [RLC circuits](https://en.wikipedia.org/wiki/RLC_circuit#Applications), which have applications as fundamental building blocks in more elaborate circuits. An *ideal* parallel RLC circuit has a natural frequency $\\omega_0$ given by\n",
    "\n",
    "$$\\omega_0 = \\sqrt{\\frac{1}{LC}}$$\n",
    "\n",
    "and its quality factor $Q$ describes how damped the circuit is; $Q$ is given by\n",
    "\n",
    "$$Q = \\omega_0 RC.$$\n",
    "\n",
    "We'll use these characteristics in a constrained optimization problem.\n"
   ]
  },
  {
   "cell_type": "markdown",
   "id": "regulation-resort",
   "metadata": {},
   "source": [
    "### __q3.1__ Deterministic optimization\n",
    "\n",
    "Solve the following optimization problem using whatever approach you choose. Store your optimized results in the DataFrame `df_RLC_opt`.\n",
    "\n",
    "$$\\max\\, Q$$\n",
    "$$\\text{wrt.}\\, R, L, C$$\n",
    "$$\\text{s.t.}\\, \\omega_0 = 10\\text{ Hz}$$\n",
    "$$10^{-3}\\Omega \\leq R \\leq 1 \\Omega$$\n",
    "$$10^{-9}\\text{ H} \\leq L \\leq 10^{-3}\\text{ H}$$\n",
    "$$10^{-3}\\text{ F} \\leq C \\leq 10^{2}\\text{ F}$$\n"
   ]
  },
  {
   "cell_type": "markdown",
   "id": "prerequisite-military",
   "metadata": {},
   "source": [
    "It seems like omega is in terms of radians, I solved the following problems for omega=10rad"
   ]
  },
  {
   "cell_type": "code",
   "execution_count": 25,
   "id": "driving-convention",
   "metadata": {},
   "outputs": [
    {
     "name": "stdout",
     "output_type": "stream",
     "text": [
      "... provided columns intersect model output.\n",
      "eval_df() is dropping {'omega0', 'Q'}\n",
      "       C    R       L      C_0     R_0     L_0     obj     omega_min  success  \\\n",
      "0  100.0  1.0  0.0001  50.0005  0.5005  0.0005 -1000.0  4.968353e-09     True   \n",
      "\n",
      "                                 message  n_iter  omega0       Q  \n",
      "0  Optimization terminated successfully.      10    10.0  1000.0  \n",
      "Success!\n"
     ]
    }
   ],
   "source": [
    "###\n",
    "# TASK: Solve the deterministic RLC optimization problem using an approach of your choice.\n",
    "#       Store your results in the DataFrame `df_RLC_opt`.\n",
    "### \n",
    "\n",
    "## NOTE: No need to edit; this defines the deterministic RLC model\n",
    "md_RLC_det = (\n",
    "    gr.Model(\"RLC Circuit\")\n",
    "    >> gr.cp_vec_function(\n",
    "        fun=lambda df: gr.df_make(\n",
    "            omega0=np.sqrt(1 / df.L / df.C) \n",
    "        ),\n",
    "        var=[\"L\", \"C\"],\n",
    "        out=[\"omega0\"],\n",
    "    )\n",
    "    >> gr.cp_vec_function(\n",
    "        fun=lambda df: gr.df_make(\n",
    "            Q=df.omega0 * df.R * df.C\n",
    "        ),\n",
    "        name=\"parallel RLC\",\n",
    "        var=[\"omega0\", \"R\", \"C\"],\n",
    "        out=[\"Q\"]\n",
    "    )\n",
    "    >> gr.cp_bounds(\n",
    "        R=(1e-3, 1e0),\n",
    "        L=(1e-9, 1e-3),\n",
    "        C=(1e-3, 100),\n",
    "    )\n",
    ")\n",
    "\n",
    "## TASK: Find the constrained optimum using a method of your choice\n",
    "df_RLC_opt = (\n",
    "    md_RLC_det\n",
    "    \n",
    "    >> gr.cp_vec_function(\n",
    "    fun=lambda df: gr.df_make(\n",
    "        obj = -df.Q\n",
    "    ),\n",
    "    var=[\"Q\"],\n",
    "    out=[\"obj\"],\n",
    "    )\n",
    "    >> gr.cp_vec_function(\n",
    "    fun=lambda df: gr.df_make(\n",
    "        omega_min = 10 - df.omega0\n",
    "    ),\n",
    "    var=[\"omega0\"],\n",
    "    out=[\"omega_min\"],\n",
    "    )\n",
    "    >> gr.ev_min(out_min=\"obj\", out_eq=[\"omega_min\"])\n",
    ")\n",
    "\n",
    "# print(df_RLC_opt.head())\n",
    "\n",
    "## NOTE: No need to edit; this checks your solution\n",
    "df_tmp = gr.eval_df(md_RLC_det, df=df_RLC_opt)\n",
    "print(df_tmp)\n",
    "try:\n",
    "    assert(df_tmp.Q[0] >= 1000 - 1e-6)\n",
    "except AssertionError:\n",
    "    raise AssertionError(\"Your optimum Q = {0:4.3f} is too low; try again!\".format(df_tmp.Q[0]))\n",
    "print(\"Success!\")\n"
   ]
  },
  {
   "cell_type": "markdown",
   "id": "fatal-chaos",
   "metadata": {},
   "source": [
    "## Tolerances as uncertainties\n",
    "\n",
    "The analysis above assumes that the component values are *exact*; as anyone who's ever worked with electronic components before knows, real components tend to exhibit *variation* away from their nominal properties. Manufacturing tolerances describe this variation in a quantitative fashion. Let's assess how variable your circuit performance is based on real tolerance data.\n"
   ]
  },
  {
   "cell_type": "markdown",
   "id": "honest-proposition",
   "metadata": {},
   "source": [
    "### __q3.2__ Background research\n",
    "\n",
    "Go to [DigiKey Electronics](https://www.digikey.com/) and find reasonable upper and lower tolerance values for the following quantities. Use the suggested `search term` to help narrow your search. Once you have filled in the table, assign these values to the variables below, run the code, and answer the questions under *Observe* below.\n",
    "\n",
    "**TASK**: Fill in the remainder of this table\n",
    "\n",
    "| Quantity | Symbol | Search term | Lower tolerance | Upper tolerance |\n",
    "|---|---|---|---|---|\n",
    "| Capacitance | `C` | `EDLC supercapacitors` | $-20\\%$ | $+80\\%$ |\n",
    "| Resistance  | `R` | `through hole resistors` | $-5\\%$ | $+5\\%$ |\n",
    "| Inductance  | `L` | `adjustable inductors` | $-10\\%$ | $+10\\%$ |\n",
    "\n",
    "\n",
    "*Note 1*: The following model takes inputs `R, L, C` as the nominal component properties and applies random perturbations to form the realized properties `Rr, Lr, Cr`.\n",
    "\n",
    "*Note 2*: The following code will take a little while to run.\n"
   ]
  },
  {
   "cell_type": "code",
   "execution_count": 26,
   "id": "shaped-humanitarian",
   "metadata": {},
   "outputs": [
    {
     "name": "stdout",
     "output_type": "stream",
     "text": [
      "eval_monte_carlo() is rounding n...\n",
      "... provided columns intersect model output.\n",
      "eval_df() is dropping {'omega0', 'Q'}\n",
      "Calling plot_hists....\n"
     ]
    },
    {
     "data": {
      "text/plain": [
       "<seaborn.axisgrid.FacetGrid at 0x20ba768db70>"
      ]
     },
     "execution_count": 26,
     "metadata": {},
     "output_type": "execute_result"
    },
    {
     "data": {
      "image/png": "[encoded data removed]",
      "text/plain": [
       "<Figure size 1500x300 with 5 Axes>"
      ]
     },
     "metadata": {
      "needs_background": "light"
     },
     "output_type": "display_data"
    }
   ],
   "source": [
    "###\n",
    "# TASK: Implement the tolerance values you found below;\n",
    "#       run and inspect the results\n",
    "###\n",
    "\n",
    "## TASK: Copy down the tolerances you found through literature search\n",
    "C_percent_lo = -0.20 # fraction\n",
    "C_percent_up = +0.80\n",
    "R_percent_lo = -.05 # fraction\n",
    "R_percent_up = .05\n",
    "L_percent_lo = -.10 # fraction\n",
    "L_percent_up = .10\n",
    "\n",
    "\n",
    "## NOTE: No need to edit; this applies your tolerances to the component\n",
    "##       nominal properties\n",
    "md_RLC_rand = (\n",
    "    gr.Model(\"RLC with component tolerances\")\n",
    "    >> gr.cp_vec_function(\n",
    "        fun=lambda df: gr.df_make(\n",
    "            Rr=df.R * (1 + df.dR),\n",
    "            Lr=df.L * (1 + df.dL),\n",
    "            Cr=df.C * (1 + df.dC),\n",
    "        ),\n",
    "        var=[\"R\", \"dR\", \"L\", \"dL\", \"C\", \"dC\"],\n",
    "        out=[\"Rr\", \"Lr\", \"Cr\"],\n",
    "    )\n",
    "    >> gr.cp_vec_function(\n",
    "        fun=lambda df: gr.df_make(\n",
    "            omega0=np.sqrt(1 / df.Lr / df.Cr)\n",
    "        ),\n",
    "        var=[\"Lr\", \"Cr\"],\n",
    "        out=[\"omega0\"],\n",
    "    )\n",
    "    >> gr.cp_vec_function(\n",
    "        fun=lambda df: gr.df_make(\n",
    "            Q=df.omega0 * df.Rr * df.Cr\n",
    "        ),\n",
    "        name=\"parallel RLC\",\n",
    "        var=[\"omega0\", \"Rr\", \"Cr\"],\n",
    "        out=[\"Q\"]\n",
    "    )\n",
    "    >> gr.cp_bounds(\n",
    "        R=(1e-3, 1e0),\n",
    "        L=(1e-9, 1e-3),\n",
    "        C=(1e-3, 100),\n",
    "    )\n",
    "    >> gr.cp_marginals(\n",
    "        dR=dict(dist=\"uniform\", loc=R_percent_lo, scale=R_percent_up - R_percent_lo),\n",
    "        dL=dict(dist=\"uniform\", loc=L_percent_lo, scale=L_percent_up - L_percent_lo),\n",
    "        dC=dict(dist=\"uniform\", loc=C_percent_lo, scale=C_percent_up - C_percent_lo),\n",
    "    )\n",
    "    >> gr.cp_copula_independence()\n",
    ")\n",
    "    \n",
    "## NOTE: No need to edit; this will simulate the response using your design and model\n",
    "df_RLC_mc = gr.eval_monte_carlo(md_RLC_rand, n=1e4, df_det=df_RLC_opt, seed=101)\n",
    "gr.plot_auto(df_RLC_mc)\n",
    "\n"
   ]
  },
  {
   "cell_type": "markdown",
   "id": "promising-tolerance",
   "metadata": {},
   "source": [
    "*Observe*:\n",
    "\n",
    "- What shape do the distributions for `Rr, Lr, Cr` have?\n",
    "  - They all have nearly uniform distributions.\n",
    "- What value of `omega0` did you design this RLC circuit to have?\n",
    "  - 10 radians\n",
    "- With tolerances, what value of `omega0` does your design tend to have?\n",
    "  -  It looks like the design tends to have a omega0 below 12hz but there are still a significant chunk with outputs greater than 10. "
   ]
  },
  {
   "cell_type": "markdown",
   "id": "statistical-electron",
   "metadata": {},
   "source": [
    "## Optimization Under Uncertainty\n",
    "\n",
    "Clearly your optimized results are *biased* away from the desired constraint `omega0 == 10`. To shift the distribution of output values you can explicitly account for the uncertainty arising from manufacturing tolerances, and apply the constraint based on the *mean* natrual frequency `omega0_mean`.\n",
    "\n",
    "We'll break this process down into two tasks:\n"
   ]
  },
  {
   "cell_type": "markdown",
   "id": "convertible-percentage",
   "metadata": {},
   "source": [
    "### __q3.3__ Implement a UP model\n",
    "\n",
    "Implement an uncertainty propagation UP model using `md_RLC_rand` that approximates the mean and standard deviation for both `Q` and `omega0`. Answer the questions under *Observe* below.\n"
   ]
  },
  {
   "cell_type": "code",
   "execution_count": 27,
   "id": "funny-variation",
   "metadata": {},
   "outputs": [
    {
     "name": "stdout",
     "output_type": "stream",
     "text": [
      "eval_monte_carlo() is rounding n...\n"
     ]
    },
    {
     "data": {
      "text/plain": [
       "Text(0, 0.5, 'Natural Frequency (Hz)')"
      ]
     },
     "execution_count": 27,
     "metadata": {},
     "output_type": "execute_result"
    },
    {
     "data": {
      "image/png": "[encoded data removed]",
      "text/plain": [
       "<Figure size 600x400 with 1 Axes>"
      ]
     },
     "metadata": {
      "needs_background": "light"
     },
     "output_type": "display_data"
    }
   ],
   "source": [
    "###\n",
    "# TASK: Implement an uncertainty propagation model that provides:\n",
    "#         Q_mean\n",
    "#         Q_sd\n",
    "#         omega0_mean\n",
    "#         omega0_sd\n",
    "###\n",
    "\n",
    "md_RLC_up = (\n",
    "    gr.Model()\n",
    "    # A vectorized function takes a DataFrame as input\n",
    "    >> gr.cp_vec_function(\n",
    "        fun=lambda df: gr.eval_monte_carlo(\n",
    "            md_RLC_rand, \n",
    "            # NOTE: Add a unique id for each point of var_det;\n",
    "            #       this is necessary for the group_by below\n",
    "            df_det=df.assign(id=df.index), \n",
    "            # MC sample size\n",
    "            n=1e1,\n",
    "            seed=101,\n",
    "\n",
    "        )\n",
    "        >> gr.tf_group_by(DF.id)\n",
    "        >> gr.tf_summarize(\n",
    "            Q_mean=gr.mean(DF.Q),\n",
    "            Q_sd=gr.sd(DF.Q),\n",
    "            omega0_mean=gr.mean(DF.omega0),\n",
    "            omega0_sd=gr.sd(DF.omega0)\n",
    "        )\n",
    "        >> gr.tf_ungroup(),\n",
    "        # We must also specify the inputs and outputs\n",
    "        var=[\"R\", \"L\", \"C\"],\n",
    "        out=[\"Q_mean\", \"Q_sd\", \"omega0_mean\", \"omega0_sd\"],\n",
    "    )\n",
    "    >> gr.cp_bounds(\n",
    "        R=(1e-3, 1e0),\n",
    "        L=(1e-9, 1e-3),\n",
    "        C=(1e-3, 100),\n",
    "    )\n",
    ")\n",
    "\n",
    "\n",
    "## NOTE: No need to edit; the following will verify that your\n",
    "##       model provides the right quantities and perform a sweep\n",
    "# Check for outputs\n",
    "for out in [\"Q_mean\", \"Q_sd\", \"omega0_mean\", \"omega0_sd\"]:\n",
    "    try:\n",
    "        assert(out in md_RLC_up.out)\n",
    "    except AssertionError:\n",
    "        print(\"md_RLC_up does not provide {0:} as output\".format(out))\n",
    "        raise\n",
    "        \n",
    "# Perform sweep\n",
    "df_RLC_sweep = (\n",
    "    md_RLC_up\n",
    "    >> gr.ev_df(df=gr.df_make(R=1.0, C=100., L=np.linspace(1e-4, 1e-2, num=50)))\n",
    "    >> gr.tf_mutate(\n",
    "        omega0_lo=DF.omega0_mean - 2*DF.omega0_sd,\n",
    "        omega0_hi=DF.omega0_mean + 2*DF.omega0_sd,\n",
    "    )\n",
    ")\n",
    "\n",
    "plt.figure()\n",
    "plt.plot(df_RLC_sweep.L, df_RLC_sweep.omega0_lo, \"b:\")\n",
    "plt.plot(df_RLC_sweep.L, df_RLC_sweep.omega0_mean, \"b\")\n",
    "plt.plot(df_RLC_sweep.L, df_RLC_sweep.omega0_hi, \"b:\")\n",
    "\n",
    "plt.xlabel(\"Inductance (H)\")\n",
    "plt.ylabel(\"Natural Frequency (Hz)\")\n"
   ]
  },
  {
   "cell_type": "markdown",
   "id": "daily-knock",
   "metadata": {},
   "source": [
    "*Observe*\n",
    "\n",
    "- How does the *mean* natural frequency `omega0_mean` tend to vary with inductance?\n",
    "  - Natural frequency decreases as inductance increases.\n",
    "- How does the *standard deviation* of the natural frequency `omega0_sd` tend to vary with inductance?\n",
    "  - Standard deviation decreases with inductance.\n"
   ]
  },
  {
   "cell_type": "markdown",
   "id": "german-victor",
   "metadata": {},
   "source": [
    "### __q3.4__ Perform Optimization Under Uncertainty\n",
    "\n",
    "Use your UP model to solve\n",
    "\n",
    "$$\\max\\, \\mathbb{E}[Q]$$\n",
    "$$\\text{wrt.}\\, R, L, C$$\n",
    "$$\\text{s.t.}\\, \\mathbb{E}[\\omega_0] = 10\\text{ Hz}$$\n",
    "$$10^{-3}\\Omega \\leq R \\leq 1 \\Omega$$\n",
    "$$10^{-9}\\text{ H} \\leq L \\leq 10^{-3}\\text{ H}$$\n",
    "$$10^{-3}\\text{ F} \\leq C \\leq 10^{2}\\text{ F}$$\n",
    "\n",
    "Answer the questions under *Observe* below.\n",
    "\n",
    "*Note*: Your code will likely take a little while to run. To help deal with this the `assert()` block for this task is in a separate code chunk. You'll find the *Observe* tasks below that chunk.\n"
   ]
  },
  {
   "cell_type": "code",
   "execution_count": 28,
   "id": "threatened-planet",
   "metadata": {},
   "outputs": [
    {
     "name": "stdout",
     "output_type": "stream",
     "text": [
      "eval_monte_carlo() is rounding n...\n",
      "eval_monte_carlo() is rounding n...\n",
      "eval_monte_carlo() is rounding n...\n",
      "eval_monte_carlo() is rounding n...\n",
      "eval_monte_carlo() is rounding n...\n",
      "eval_monte_carlo() is rounding n...\n",
      "eval_monte_carlo() is rounding n...\n",
      "eval_monte_carlo() is rounding n...\n",
      "eval_monte_carlo() is rounding n...\n",
      "eval_monte_carlo() is rounding n...\n",
      "eval_monte_carlo() is rounding n...\n",
      "eval_monte_carlo() is rounding n...\n",
      "eval_monte_carlo() is rounding n...\n",
      "eval_monte_carlo() is rounding n...\n",
      "eval_monte_carlo() is rounding n...\n",
      "eval_monte_carlo() is rounding n...\n",
      "eval_monte_carlo() is rounding n...\n",
      "eval_monte_carlo() is rounding n...\n",
      "eval_monte_carlo() is rounding n...\n",
      "eval_monte_carlo() is rounding n...\n",
      "eval_monte_carlo() is rounding n...\n",
      "eval_monte_carlo() is rounding n...\n",
      "eval_monte_carlo() is rounding n...\n",
      "eval_monte_carlo() is rounding n...\n",
      "eval_monte_carlo() is rounding n...\n",
      "eval_monte_carlo() is rounding n...\n",
      "eval_monte_carlo() is rounding n...\n",
      "eval_monte_carlo() is rounding n...\n",
      "eval_monte_carlo() is rounding n...\n",
      "eval_monte_carlo() is rounding n...\n",
      "eval_monte_carlo() is rounding n...\n",
      "eval_monte_carlo() is rounding n...\n",
      "eval_monte_carlo() is rounding n...\n",
      "eval_monte_carlo() is rounding n...\n",
      "eval_monte_carlo() is rounding n...\n",
      "eval_monte_carlo() is rounding n...\n",
      "eval_monte_carlo() is rounding n...\n",
      "eval_monte_carlo() is rounding n...\n",
      "eval_monte_carlo() is rounding n...\n",
      "eval_monte_carlo() is rounding n...\n",
      "eval_monte_carlo() is rounding n...\n",
      "eval_monte_carlo() is rounding n...\n",
      "eval_monte_carlo() is rounding n...\n",
      "eval_monte_carlo() is rounding n...\n",
      "eval_monte_carlo() is rounding n...\n",
      "eval_monte_carlo() is rounding n...\n",
      "eval_monte_carlo() is rounding n...\n",
      "eval_monte_carlo() is rounding n...\n",
      "eval_monte_carlo() is rounding n...\n",
      "eval_monte_carlo() is rounding n...\n",
      "eval_monte_carlo() is rounding n...\n",
      "eval_monte_carlo() is rounding n...\n",
      "eval_monte_carlo() is rounding n...\n",
      "eval_monte_carlo() is rounding n...\n",
      "eval_monte_carlo() is rounding n...\n",
      "eval_monte_carlo() is rounding n...\n",
      "eval_monte_carlo() is rounding n...\n",
      "eval_monte_carlo() is rounding n...\n",
      "eval_monte_carlo() is rounding n...\n",
      "eval_monte_carlo() is rounding n...\n",
      "eval_monte_carlo() is rounding n...\n",
      "eval_monte_carlo() is rounding n...\n",
      "eval_monte_carlo() is rounding n...\n",
      "eval_monte_carlo() is rounding n...\n",
      "eval_monte_carlo() is rounding n...\n",
      "eval_monte_carlo() is rounding n...\n",
      "eval_monte_carlo() is rounding n...\n",
      "eval_monte_carlo() is rounding n...\n",
      "eval_monte_carlo() is rounding n...\n",
      "eval_monte_carlo() is rounding n...\n",
      "eval_monte_carlo() is rounding n...\n",
      "eval_monte_carlo() is rounding n...\n",
      "eval_monte_carlo() is rounding n...\n",
      "eval_monte_carlo() is rounding n...\n",
      "eval_monte_carlo() is rounding n...\n",
      "eval_monte_carlo() is rounding n...\n",
      "eval_monte_carlo() is rounding n...\n",
      "eval_monte_carlo() is rounding n...\n",
      "eval_monte_carlo() is rounding n...\n",
      "eval_monte_carlo() is rounding n...\n",
      "eval_monte_carlo() is rounding n...\n",
      "eval_monte_carlo() is rounding n...\n",
      "eval_monte_carlo() is rounding n...\n",
      "eval_monte_carlo() is rounding n...\n",
      "eval_monte_carlo() is rounding n...\n",
      "eval_monte_carlo() is rounding n...\n",
      "eval_monte_carlo() is rounding n...\n",
      "eval_monte_carlo() is rounding n...\n",
      "eval_monte_carlo() is rounding n...\n",
      "eval_monte_carlo() is rounding n...\n",
      "eval_monte_carlo() is rounding n...\n",
      "eval_monte_carlo() is rounding n...\n",
      "eval_monte_carlo() is rounding n...\n",
      "eval_monte_carlo() is rounding n...\n",
      "eval_monte_carlo() is rounding n...\n",
      "eval_monte_carlo() is rounding n...\n",
      "eval_monte_carlo() is rounding n...\n",
      "eval_monte_carlo() is rounding n...\n",
      "eval_monte_carlo() is rounding n...\n",
      "eval_monte_carlo() is rounding n...\n",
      "eval_monte_carlo() is rounding n...\n",
      "eval_monte_carlo() is rounding n...\n",
      "eval_monte_carlo() is rounding n...\n",
      "eval_monte_carlo() is rounding n...\n",
      "eval_monte_carlo() is rounding n...\n",
      "eval_monte_carlo() is rounding n...\n",
      "eval_monte_carlo() is rounding n...\n",
      "eval_monte_carlo() is rounding n...\n",
      "eval_monte_carlo() is rounding n...\n",
      "eval_monte_carlo() is rounding n...\n",
      "eval_monte_carlo() is rounding n...\n",
      "eval_monte_carlo() is rounding n...\n",
      "eval_monte_carlo() is rounding n...\n",
      "eval_monte_carlo() is rounding n...\n",
      "eval_monte_carlo() is rounding n...\n",
      "eval_monte_carlo() is rounding n...\n",
      "eval_monte_carlo() is rounding n...\n",
      "eval_monte_carlo() is rounding n...\n",
      "eval_monte_carlo() is rounding n...\n",
      "eval_monte_carlo() is rounding n...\n",
      "eval_monte_carlo() is rounding n...\n",
      "eval_monte_carlo() is rounding n...\n",
      "eval_monte_carlo() is rounding n...\n",
      "eval_monte_carlo() is rounding n...\n",
      "eval_monte_carlo() is rounding n...\n",
      "eval_monte_carlo() is rounding n...\n",
      "eval_monte_carlo() is rounding n...\n",
      "eval_monte_carlo() is rounding n...\n",
      "eval_monte_carlo() is rounding n...\n",
      "eval_monte_carlo() is rounding n...\n",
      "eval_monte_carlo() is rounding n...\n",
      "eval_monte_carlo() is rounding n...\n",
      "eval_monte_carlo() is rounding n...\n",
      "eval_monte_carlo() is rounding n...\n",
      "eval_monte_carlo() is rounding n...\n",
      "eval_monte_carlo() is rounding n...\n",
      "eval_monte_carlo() is rounding n...\n",
      "eval_monte_carlo() is rounding n...\n",
      "eval_monte_carlo() is rounding n...\n",
      "eval_monte_carlo() is rounding n...\n"
     ]
    }
   ],
   "source": [
    "###\n",
    "# TASK: Solve the optimization problem above\n",
    "###\n",
    "\n",
    "df_res = (\n",
    "    md_RLC_up\n",
    "    \n",
    "    >> gr.cp_vec_function(\n",
    "    fun=lambda df: gr.df_make(\n",
    "        obj = -df.Q_mean\n",
    "    ),\n",
    "    var=[\"Q_mean\"],\n",
    "    out=[\"obj\"],\n",
    "    )\n",
    "    >> gr.cp_vec_function(\n",
    "    fun=lambda df: gr.df_make(\n",
    "        omega_min = 10 - df.omega0_mean\n",
    "    ),\n",
    "    var=[\"omega0_mean\"],\n",
    "    out=[\"omega_min\"],\n",
    "    )\n",
    "    \n",
    "    >> gr.ev_min(out_min=\"obj\", out_eq=[\"omega_min\"])\n",
    "    \n",
    ")\n"
   ]
  },
  {
   "cell_type": "markdown",
   "id": "successful-panic",
   "metadata": {},
   "source": [
    "*Note*: Use the following code to check your optimization results.\n"
   ]
  },
  {
   "cell_type": "code",
   "execution_count": 29,
   "id": "ideal-messenger",
   "metadata": {},
   "outputs": [
    {
     "name": "stdout",
     "output_type": "stream",
     "text": [
      "eval_monte_carlo() is rounding n...\n",
      "... provided columns intersect model output.\n",
      "eval_df() is dropping {'omega0', 'Q'}\n",
      "Deterministic results:\n",
      "                 Q       omega0\n",
      "count  1000.000000  1000.000000\n",
      "mean   1141.261058     8.923914\n",
      "std     135.555050     1.053549\n",
      "min     838.550398     7.179706\n",
      "25%    1033.464205     8.052151\n",
      "50%    1146.623345     8.728577\n",
      "75%    1249.526341     9.673236\n",
      "max    1465.418326    11.709644\n",
      "Calling plot_hists....\n",
      "eval_monte_carlo() is rounding n...\n",
      "OUU results:\n",
      "                 Q       omega0\n",
      "count  1000.000000  1000.000000\n",
      "mean   1300.452460    10.168686\n",
      "std     154.463255     1.200506\n",
      "min     955.517513     8.181184\n",
      "25%    1177.619317     9.175324\n",
      "50%    1306.562718     9.946102\n",
      "75%    1423.819373    11.022529\n",
      "max    1669.825545    13.342991\n",
      "Calling plot_hists....\n"
     ]
    },
    {
     "data": {
      "text/plain": [
       "Text(0.5, 0.0, 'OUU')"
      ]
     },
     "execution_count": 29,
     "metadata": {},
     "output_type": "execute_result"
    },
    {
     "data": {
      "image/png": "[encoded data removed]",
      "text/plain": [
       "<Figure size 1500x300 with 5 Axes>"
      ]
     },
     "metadata": {
      "needs_background": "light"
     },
     "output_type": "display_data"
    },
    {
     "data": {
      "image/png": "[encoded data removed]",
      "text/plain": [
       "<Figure size 1500x300 with 5 Axes>"
      ]
     },
     "metadata": {
      "needs_background": "light"
     },
     "output_type": "display_data"
    }
   ],
   "source": [
    "## NOTE: No need to edit; use this to check your results from q3.4\n",
    "try:\n",
    "    assert(\n",
    "        min(np.abs(df_res.omega0_mean - 10)) <= 1e-6\n",
    "    )\n",
    "except:\n",
    "    print(\"omega0_mean constraint not met; try again!\")\n",
    "    raise\n",
    "\n",
    "# Deterministic solution\n",
    "df_RLC_mc = gr.eval_monte_carlo(md_RLC_rand, n=1e3, df_det=df_RLC_opt, seed=101)\n",
    "print(\"Deterministic results:\")\n",
    "print(df_RLC_mc[[\"Q\", \"omega0\"]].describe())\n",
    "gr.plot_auto(df_RLC_mc)\n",
    "plt.figtext(0.5, 0.00, \"Deterministic\", wrap=True, horizontalalignment='center', fontsize=12)\n",
    "\n",
    "df_RLC_ouu_mc = (\n",
    "    md_RLC_rand\n",
    "    >> gr.ev_monte_carlo(\n",
    "        n=1e3, \n",
    "        df_det=df_res \n",
    "            >> gr.tf_filter(abs(DF.omega0_mean - 10) <= 1e-6)\n",
    "            >> gr.tf_head(1)\n",
    "            >> gr.tf_select(\"R\", \"L\", \"C\"),\n",
    "        seed=101\n",
    "    )\n",
    ")\n",
    "print(\"OUU results:\")\n",
    "print(df_RLC_ouu_mc[[\"Q\", \"omega0\"]].describe())\n",
    "gr.plot_auto(df_RLC_ouu_mc)\n",
    "plt.figtext(0.5, 0.00, \"OUU\", wrap=True, horizontalalignment='center', fontsize=12)\n"
   ]
  },
  {
   "cell_type": "markdown",
   "id": "capital-farming",
   "metadata": {},
   "source": [
    "*Observe*\n",
    "\n",
    "- How do the `Deterministic` and `OUU` optimized designs differ in terms of `omega0` and `Q`?\n",
    "  - *Note*: Make sure to compare both the *mean* and *standard deviation* of both outputs `omega0` and `Q`.\n",
    "  - For omega, the mean is closer to 10 for the OUU but the standard deviation is smaller for the deterministic.\n",
    "  - For Q, the mean is smaller for the deterministic value but the standard deviation is larger for the OUU. \n",
    "- Describe the relative advantages of the `Deterministic` and `OUU` solutions.\n",
    "  - Advantages of the `Deterministic` solution: lower standard deviation for Q and omega0.\n",
    "  - Disadvantages of the `Deterministic` solution: mean for Q and omega0 are further from the objective (maximize Q, make omega0=10). \n",
    "  - Advantages of the `OUU` solution: The mean is closer to the objective.\n",
    "  - Disadvantages of the `OUU` solution: The standard deviation is larger (more variability). "
   ]
  },
  {
   "cell_type": "markdown",
   "id": "marine-arthritis",
   "metadata": {},
   "source": [
    "*Side Note*\n",
    "\n",
    "The fact that the `Q` and `omega0` distributions \"shift\" is in large part due to the asymmetric tolerance for capacitors. To see this, you could try defining a different version of `md_RLC_rand` that has symmetric tolerances on the realized capacitor value `Cr`, and repeating the Monte Carlo analysis from q3.4.\n"
   ]
  },
  {
   "cell_type": "markdown",
   "id": "italian-house",
   "metadata": {},
   "source": [
    "## Project\n",
    "\n",
    "---\n",
    "\n",
    "### __Project Task__\n",
    "\n",
    "Look back on your project idea from the previous assignment. As we saw in this assignment, many problems have uncertainties that complicate design. This project task will help you connect these ideas to your project.\n",
    "\n",
    "*Task*: Provide an answer to each point below:\n",
    "\n",
    "- *Variables and Parameters*: What are the decision *variables* in your project? What are the *parameters* that are inputs to your project?\n",
    "  - Variables: (Your response here)\n",
    "  - Parameters: (Your response here)\n",
    "- *Control over variables*: To what extent do you have *control* over your design variables? All real systems have manufacturing tolerances; do you anticipate those tolerances being negligible or salient?\n",
    "  - (Your response here)\n",
    "- *Knowledge of parameters*: To what extent do you know the parameters in your problem? Remember that humans tend to be highly variable in their behavior; it is *extremely unlikely* that you can 100% guarantee any specific value for *any* quantity related to human behavior!\n",
    "  - (Your response here)\n",
    "- *Sources of information*: What information do you have to quantify uncertainty on your variables and parameters? Do you have repeated samples you can use to fit a distribution? If not, can you find literature to support setting a mean and coefficient of variation for each distribution? How are you going to avoid just making up numbers?\n",
    "  - (Your response here)\n"
   ]
  },
  {
   "cell_type": "markdown",
   "id": "novel-hospital",
   "metadata": {},
   "source": [
    "## References\n",
    "\n",
    "---\n",
    "\n",
    "- Superior Technical Ceramics (STC), \"Standard Alumina\", accessed 2020-12-26, [link](https://www.ceramics.net/ceramic-materials-solutions/aluminas/std-alumina)\n",
    "  - Reference for material strength `scale`\n",
    "- Afferrante, Ciavarella, and Valenza, \"Is Weibull's modulus really a material constant? Example case with interacting collinear cracks\" (2006) *IJSS* [link](https://www.sciencedirect.com/science/article/pii/S0020768305005226)\n",
    "  - Reference for material strength Weibull modulus `c`\n",
    "- Title 14 Code of Federal Regulations Part 25.613, [link](https://www.govinfo.gov/app/details/CFR-2011-title14-vol1/CFR-2011-title14-vol1-sec25-613)\n",
    "- Kleinman, Spall, and Naiman, \"Simulation-based optimization with stochastic approximation using common random numbers\" (1999) *INFORMS*\n"
   ]
  }
 ],
 "metadata": {
  "kernelspec": {
   "display_name": "Python 3",
   "language": "python",
   "name": "python3"
  },
  "language_info": {
   "codemirror_mode": {
    "name": "ipython",
    "version": 3
   },
   "file_extension": ".py",
   "mimetype": "text/x-python",
   "name": "python",
   "nbconvert_exporter": "python",
   "pygments_lexer": "ipython3",
   "version": "3.7.3"
  }
 },
 "nbformat": 4,
 "nbformat_minor": 5
}
